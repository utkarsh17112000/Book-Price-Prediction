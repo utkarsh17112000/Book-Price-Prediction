{
 "cells": [
  {
   "cell_type": "code",
   "execution_count": 165,
   "metadata": {
    "executionInfo": {
     "elapsed": 868,
     "status": "ok",
     "timestamp": 1622484284133,
     "user": {
      "displayName": "SAURABH KUMAR",
      "photoUrl": "",
      "userId": "17886894809944321636"
     },
     "user_tz": -330
    },
    "id": "q7HDkp63yvzt"
   },
   "outputs": [],
   "source": [
    "import pandas as pd\n",
    "import numpy as np\n",
    "import seaborn as sns\n",
    "import matplotlib.pyplot as plt\n"
   ]
  },
  {
   "cell_type": "code",
   "execution_count": 166,
   "metadata": {
    "executionInfo": {
     "elapsed": 1135,
     "status": "ok",
     "timestamp": 1622484285878,
     "user": {
      "displayName": "SAURABH KUMAR",
      "photoUrl": "",
      "userId": "17886894809944321636"
     },
     "user_tz": -330
    },
    "id": "ivAOxmmf236w"
   },
   "outputs": [],
   "source": [
    "import warnings \n",
    "warnings.filterwarnings('ignore')"
   ]
  },
  {
   "cell_type": "code",
   "execution_count": 167,
   "metadata": {
    "executionInfo": {
     "elapsed": 26,
     "status": "ok",
     "timestamp": 1622484285881,
     "user": {
      "displayName": "SAURABH KUMAR",
      "photoUrl": "",
      "userId": "17886894809944321636"
     },
     "user_tz": -330
    },
    "id": "QTlraS8j0lRR"
   },
   "outputs": [],
   "source": [
    "df_Test =pd.read_excel(\"C:/Users/anos/Untitled Folder 2/Data_Test.xlsx\",engine = 'openpyxl')"
   ]
  },
  {
   "cell_type": "code",
   "execution_count": 168,
   "metadata": {
    "colab": {
     "base_uri": "https://localhost:8080/",
     "height": 374
    },
    "executionInfo": {
     "elapsed": 37,
     "status": "ok",
     "timestamp": 1622484285893,
     "user": {
      "displayName": "SAURABH KUMAR",
      "photoUrl": "",
      "userId": "17886894809944321636"
     },
     "user_tz": -330
    },
    "id": "9KaqdgXW0w9d",
    "outputId": "d2d19604-3014-4a6e-de8c-ef76583a69d7"
   },
   "outputs": [
    {
     "data": {
      "text/html": [
       "<div>\n",
       "<style scoped>\n",
       "    .dataframe tbody tr th:only-of-type {\n",
       "        vertical-align: middle;\n",
       "    }\n",
       "\n",
       "    .dataframe tbody tr th {\n",
       "        vertical-align: top;\n",
       "    }\n",
       "\n",
       "    .dataframe thead th {\n",
       "        text-align: right;\n",
       "    }\n",
       "</style>\n",
       "<table border=\"1\" class=\"dataframe\">\n",
       "  <thead>\n",
       "    <tr style=\"text-align: right;\">\n",
       "      <th></th>\n",
       "      <th>Title</th>\n",
       "      <th>Author</th>\n",
       "      <th>Edition</th>\n",
       "      <th>Reviews</th>\n",
       "      <th>Ratings</th>\n",
       "      <th>Synopsis</th>\n",
       "      <th>Genre</th>\n",
       "      <th>BookCategory</th>\n",
       "    </tr>\n",
       "  </thead>\n",
       "  <tbody>\n",
       "    <tr>\n",
       "      <th>0</th>\n",
       "      <td>The Complete Sherlock Holmes: 2 Boxes sets</td>\n",
       "      <td>Sir Arthur Conan Doyle</td>\n",
       "      <td>Mass Market Paperback,– 1 Oct 1986</td>\n",
       "      <td>4.4 out of 5 stars</td>\n",
       "      <td>960 customer reviews</td>\n",
       "      <td>A collection of entire body of work of the She...</td>\n",
       "      <td>Short Stories (Books)</td>\n",
       "      <td>Crime, Thriller &amp; Mystery</td>\n",
       "    </tr>\n",
       "    <tr>\n",
       "      <th>1</th>\n",
       "      <td>Learn Docker - Fundamentals of Docker 18.x: Ev...</td>\n",
       "      <td>Gabriel N. Schenker</td>\n",
       "      <td>Paperback,– Import, 26 Apr 2018</td>\n",
       "      <td>5.0 out of 5 stars</td>\n",
       "      <td>1 customer review</td>\n",
       "      <td>Enhance your software deployment workflow usin...</td>\n",
       "      <td>Operating Systems Textbooks</td>\n",
       "      <td>Computing, Internet &amp; Digital Media</td>\n",
       "    </tr>\n",
       "    <tr>\n",
       "      <th>2</th>\n",
       "      <td>Big Girl</td>\n",
       "      <td>Danielle Steel</td>\n",
       "      <td>Paperback,– 17 Mar 2011</td>\n",
       "      <td>5.0 out of 5 stars</td>\n",
       "      <td>4 customer reviews</td>\n",
       "      <td>'Watch out, world. Here I come!'\\nFor Victoria...</td>\n",
       "      <td>Romance (Books)</td>\n",
       "      <td>Romance</td>\n",
       "    </tr>\n",
       "    <tr>\n",
       "      <th>3</th>\n",
       "      <td>Think Python: How to Think Like a Computer Sci...</td>\n",
       "      <td>Allen B. Downey</td>\n",
       "      <td>Paperback,– 2016</td>\n",
       "      <td>4.1 out of 5 stars</td>\n",
       "      <td>11 customer reviews</td>\n",
       "      <td>If you want to learn how to program, working w...</td>\n",
       "      <td>Programming &amp; Software Development (Books)</td>\n",
       "      <td>Computing, Internet &amp; Digital Media</td>\n",
       "    </tr>\n",
       "    <tr>\n",
       "      <th>4</th>\n",
       "      <td>Oxford Word Skills: Advanced - Idioms &amp; Phrasa...</td>\n",
       "      <td>Redman Gairns</td>\n",
       "      <td>Paperback,– 26 Dec 2011</td>\n",
       "      <td>4.4 out of 5 stars</td>\n",
       "      <td>9 customer reviews</td>\n",
       "      <td>Learn and practise the verbs, prepositions and...</td>\n",
       "      <td>Linguistics (Books)</td>\n",
       "      <td>Language, Linguistics &amp; Writing</td>\n",
       "    </tr>\n",
       "  </tbody>\n",
       "</table>\n",
       "</div>"
      ],
      "text/plain": [
       "                                               Title                  Author  \\\n",
       "0         The Complete Sherlock Holmes: 2 Boxes sets  Sir Arthur Conan Doyle   \n",
       "1  Learn Docker - Fundamentals of Docker 18.x: Ev...     Gabriel N. Schenker   \n",
       "2                                           Big Girl          Danielle Steel   \n",
       "3  Think Python: How to Think Like a Computer Sci...         Allen B. Downey   \n",
       "4  Oxford Word Skills: Advanced - Idioms & Phrasa...           Redman Gairns   \n",
       "\n",
       "                              Edition             Reviews  \\\n",
       "0  Mass Market Paperback,– 1 Oct 1986  4.4 out of 5 stars   \n",
       "1     Paperback,– Import, 26 Apr 2018  5.0 out of 5 stars   \n",
       "2             Paperback,– 17 Mar 2011  5.0 out of 5 stars   \n",
       "3                    Paperback,– 2016  4.1 out of 5 stars   \n",
       "4             Paperback,– 26 Dec 2011  4.4 out of 5 stars   \n",
       "\n",
       "                Ratings                                           Synopsis  \\\n",
       "0  960 customer reviews  A collection of entire body of work of the She...   \n",
       "1     1 customer review  Enhance your software deployment workflow usin...   \n",
       "2    4 customer reviews  'Watch out, world. Here I come!'\\nFor Victoria...   \n",
       "3   11 customer reviews  If you want to learn how to program, working w...   \n",
       "4    9 customer reviews  Learn and practise the verbs, prepositions and...   \n",
       "\n",
       "                                        Genre  \\\n",
       "0                       Short Stories (Books)   \n",
       "1                 Operating Systems Textbooks   \n",
       "2                             Romance (Books)   \n",
       "3  Programming & Software Development (Books)   \n",
       "4                         Linguistics (Books)   \n",
       "\n",
       "                          BookCategory  \n",
       "0            Crime, Thriller & Mystery  \n",
       "1  Computing, Internet & Digital Media  \n",
       "2                              Romance  \n",
       "3  Computing, Internet & Digital Media  \n",
       "4      Language, Linguistics & Writing  "
      ]
     },
     "execution_count": 168,
     "metadata": {},
     "output_type": "execute_result"
    }
   ],
   "source": [
    "df_Test.head()"
   ]
  },
  {
   "cell_type": "code",
   "execution_count": 169,
   "metadata": {
    "colab": {
     "base_uri": "https://localhost:8080/"
    },
    "executionInfo": {
     "elapsed": 34,
     "status": "ok",
     "timestamp": 1622484285894,
     "user": {
      "displayName": "SAURABH KUMAR",
      "photoUrl": "",
      "userId": "17886894809944321636"
     },
     "user_tz": -330
    },
    "id": "Nx762SfJ0yZ5",
    "outputId": "0a065f15-a960-43cf-cc09-4fb0ddf61cee"
   },
   "outputs": [
    {
     "data": {
      "text/plain": [
       "Index(['Title', 'Author', 'Edition', 'Reviews', 'Ratings', 'Synopsis', 'Genre',\n",
       "       'BookCategory'],\n",
       "      dtype='object')"
      ]
     },
     "execution_count": 169,
     "metadata": {},
     "output_type": "execute_result"
    }
   ],
   "source": [
    "df_Test.columns"
   ]
  },
  {
   "cell_type": "code",
   "execution_count": 170,
   "metadata": {
    "executionInfo": {
     "elapsed": 758,
     "status": "ok",
     "timestamp": 1622484286627,
     "user": {
      "displayName": "SAURABH KUMAR",
      "photoUrl": "",
      "userId": "17886894809944321636"
     },
     "user_tz": -330
    },
    "id": "ysYwaca11DTV"
   },
   "outputs": [],
   "source": [
    "df_Train=pd.read_excel(\"C:/Users/anos/Untitled Folder 2/Data_Train.xlsx\",engine = 'openpyxl')"
   ]
  },
  {
   "cell_type": "code",
   "execution_count": 171,
   "metadata": {
    "colab": {
     "base_uri": "https://localhost:8080/",
     "height": 374
    },
    "executionInfo": {
     "elapsed": 68,
     "status": "ok",
     "timestamp": 1622484286630,
     "user": {
      "displayName": "SAURABH KUMAR",
      "photoUrl": "",
      "userId": "17886894809944321636"
     },
     "user_tz": -330
    },
    "id": "Lt7_-vM61xxn",
    "outputId": "caa12bcd-b94b-4f26-8480-0d669391ae47"
   },
   "outputs": [
    {
     "data": {
      "text/html": [
       "<div>\n",
       "<style scoped>\n",
       "    .dataframe tbody tr th:only-of-type {\n",
       "        vertical-align: middle;\n",
       "    }\n",
       "\n",
       "    .dataframe tbody tr th {\n",
       "        vertical-align: top;\n",
       "    }\n",
       "\n",
       "    .dataframe thead th {\n",
       "        text-align: right;\n",
       "    }\n",
       "</style>\n",
       "<table border=\"1\" class=\"dataframe\">\n",
       "  <thead>\n",
       "    <tr style=\"text-align: right;\">\n",
       "      <th></th>\n",
       "      <th>Title</th>\n",
       "      <th>Author</th>\n",
       "      <th>Edition</th>\n",
       "      <th>Reviews</th>\n",
       "      <th>Ratings</th>\n",
       "      <th>Synopsis</th>\n",
       "      <th>Genre</th>\n",
       "      <th>BookCategory</th>\n",
       "      <th>Price</th>\n",
       "    </tr>\n",
       "  </thead>\n",
       "  <tbody>\n",
       "    <tr>\n",
       "      <th>0</th>\n",
       "      <td>The Prisoner's Gold (The Hunters 3)</td>\n",
       "      <td>Chris Kuzneski</td>\n",
       "      <td>Paperback,– 10 Mar 2016</td>\n",
       "      <td>4.0 out of 5 stars</td>\n",
       "      <td>8 customer reviews</td>\n",
       "      <td>THE HUNTERS return in their third brilliant no...</td>\n",
       "      <td>Action &amp; Adventure (Books)</td>\n",
       "      <td>Action &amp; Adventure</td>\n",
       "      <td>220.00</td>\n",
       "    </tr>\n",
       "    <tr>\n",
       "      <th>1</th>\n",
       "      <td>Guru Dutt: A Tragedy in Three Acts</td>\n",
       "      <td>Arun Khopkar</td>\n",
       "      <td>Paperback,– 7 Nov 2012</td>\n",
       "      <td>3.9 out of 5 stars</td>\n",
       "      <td>14 customer reviews</td>\n",
       "      <td>A layered portrait of a troubled genius for wh...</td>\n",
       "      <td>Cinema &amp; Broadcast (Books)</td>\n",
       "      <td>Biographies, Diaries &amp; True Accounts</td>\n",
       "      <td>202.93</td>\n",
       "    </tr>\n",
       "    <tr>\n",
       "      <th>2</th>\n",
       "      <td>Leviathan (Penguin Classics)</td>\n",
       "      <td>Thomas Hobbes</td>\n",
       "      <td>Paperback,– 25 Feb 1982</td>\n",
       "      <td>4.8 out of 5 stars</td>\n",
       "      <td>6 customer reviews</td>\n",
       "      <td>\"During the time men live without a common Pow...</td>\n",
       "      <td>International Relations</td>\n",
       "      <td>Humour</td>\n",
       "      <td>299.00</td>\n",
       "    </tr>\n",
       "    <tr>\n",
       "      <th>3</th>\n",
       "      <td>A Pocket Full of Rye (Miss Marple)</td>\n",
       "      <td>Agatha Christie</td>\n",
       "      <td>Paperback,– 5 Oct 2017</td>\n",
       "      <td>4.1 out of 5 stars</td>\n",
       "      <td>13 customer reviews</td>\n",
       "      <td>A handful of grain is found in the pocket of a...</td>\n",
       "      <td>Contemporary Fiction (Books)</td>\n",
       "      <td>Crime, Thriller &amp; Mystery</td>\n",
       "      <td>180.00</td>\n",
       "    </tr>\n",
       "    <tr>\n",
       "      <th>4</th>\n",
       "      <td>LIFE 70 Years of Extraordinary Photography</td>\n",
       "      <td>Editors of Life</td>\n",
       "      <td>Hardcover,– 10 Oct 2006</td>\n",
       "      <td>5.0 out of 5 stars</td>\n",
       "      <td>1 customer review</td>\n",
       "      <td>For seven decades, \"Life\" has been thrilling t...</td>\n",
       "      <td>Photography Textbooks</td>\n",
       "      <td>Arts, Film &amp; Photography</td>\n",
       "      <td>965.62</td>\n",
       "    </tr>\n",
       "  </tbody>\n",
       "</table>\n",
       "</div>"
      ],
      "text/plain": [
       "                                        Title           Author  \\\n",
       "0         The Prisoner's Gold (The Hunters 3)   Chris Kuzneski   \n",
       "1          Guru Dutt: A Tragedy in Three Acts     Arun Khopkar   \n",
       "2                Leviathan (Penguin Classics)    Thomas Hobbes   \n",
       "3          A Pocket Full of Rye (Miss Marple)  Agatha Christie   \n",
       "4  LIFE 70 Years of Extraordinary Photography  Editors of Life   \n",
       "\n",
       "                   Edition             Reviews              Ratings  \\\n",
       "0  Paperback,– 10 Mar 2016  4.0 out of 5 stars   8 customer reviews   \n",
       "1   Paperback,– 7 Nov 2012  3.9 out of 5 stars  14 customer reviews   \n",
       "2  Paperback,– 25 Feb 1982  4.8 out of 5 stars   6 customer reviews   \n",
       "3   Paperback,– 5 Oct 2017  4.1 out of 5 stars  13 customer reviews   \n",
       "4  Hardcover,– 10 Oct 2006  5.0 out of 5 stars    1 customer review   \n",
       "\n",
       "                                            Synopsis  \\\n",
       "0  THE HUNTERS return in their third brilliant no...   \n",
       "1  A layered portrait of a troubled genius for wh...   \n",
       "2  \"During the time men live without a common Pow...   \n",
       "3  A handful of grain is found in the pocket of a...   \n",
       "4  For seven decades, \"Life\" has been thrilling t...   \n",
       "\n",
       "                          Genre                          BookCategory   Price  \n",
       "0    Action & Adventure (Books)                    Action & Adventure  220.00  \n",
       "1    Cinema & Broadcast (Books)  Biographies, Diaries & True Accounts  202.93  \n",
       "2       International Relations                                Humour  299.00  \n",
       "3  Contemporary Fiction (Books)             Crime, Thriller & Mystery  180.00  \n",
       "4         Photography Textbooks              Arts, Film & Photography  965.62  "
      ]
     },
     "execution_count": 171,
     "metadata": {},
     "output_type": "execute_result"
    }
   ],
   "source": [
    "df_Train.head()"
   ]
  },
  {
   "cell_type": "code",
   "execution_count": 172,
   "metadata": {
    "colab": {
     "base_uri": "https://localhost:8080/"
    },
    "executionInfo": {
     "elapsed": 68,
     "status": "ok",
     "timestamp": 1622484286631,
     "user": {
      "displayName": "SAURABH KUMAR",
      "photoUrl": "",
      "userId": "17886894809944321636"
     },
     "user_tz": -330
    },
    "id": "_oICHUrP10Ls",
    "outputId": "7aec1ed8-4c90-48ee-b55f-74e32c372ae7"
   },
   "outputs": [
    {
     "data": {
      "text/plain": [
       "(1560, 8)"
      ]
     },
     "execution_count": 172,
     "metadata": {},
     "output_type": "execute_result"
    }
   ],
   "source": [
    "df_Test.shape"
   ]
  },
  {
   "cell_type": "code",
   "execution_count": 173,
   "metadata": {
    "colab": {
     "base_uri": "https://localhost:8080/"
    },
    "executionInfo": {
     "elapsed": 63,
     "status": "ok",
     "timestamp": 1622484286633,
     "user": {
      "displayName": "SAURABH KUMAR",
      "photoUrl": "",
      "userId": "17886894809944321636"
     },
     "user_tz": -330
    },
    "id": "Vx2EITi02o8n",
    "outputId": "f90f9d81-9f4b-4511-a9ab-5213723d7ac0"
   },
   "outputs": [
    {
     "data": {
      "text/plain": [
       "(6237, 9)"
      ]
     },
     "execution_count": 173,
     "metadata": {},
     "output_type": "execute_result"
    }
   ],
   "source": [
    "df_Train.shape"
   ]
  },
  {
   "cell_type": "code",
   "execution_count": 174,
   "metadata": {
    "colab": {
     "base_uri": "https://localhost:8080/",
     "height": 207
    },
    "executionInfo": {
     "elapsed": 59,
     "status": "ok",
     "timestamp": 1622484286634,
     "user": {
      "displayName": "SAURABH KUMAR",
      "photoUrl": "",
      "userId": "17886894809944321636"
     },
     "user_tz": -330
    },
    "id": "J_mI3hcU2tsb",
    "outputId": "4858005b-ad13-4511-dda8-77130569ce2d"
   },
   "outputs": [
    {
     "data": {
      "text/html": [
       "<div>\n",
       "<style scoped>\n",
       "    .dataframe tbody tr th:only-of-type {\n",
       "        vertical-align: middle;\n",
       "    }\n",
       "\n",
       "    .dataframe tbody tr th {\n",
       "        vertical-align: top;\n",
       "    }\n",
       "\n",
       "    .dataframe thead th {\n",
       "        text-align: right;\n",
       "    }\n",
       "</style>\n",
       "<table border=\"1\" class=\"dataframe\">\n",
       "  <thead>\n",
       "    <tr style=\"text-align: right;\">\n",
       "      <th></th>\n",
       "      <th>Title</th>\n",
       "      <th>Author</th>\n",
       "      <th>Edition</th>\n",
       "      <th>Reviews</th>\n",
       "      <th>Ratings</th>\n",
       "      <th>Synopsis</th>\n",
       "      <th>Genre</th>\n",
       "      <th>BookCategory</th>\n",
       "    </tr>\n",
       "  </thead>\n",
       "  <tbody>\n",
       "    <tr>\n",
       "      <th>count</th>\n",
       "      <td>1560</td>\n",
       "      <td>1560</td>\n",
       "      <td>1560</td>\n",
       "      <td>1560</td>\n",
       "      <td>1560</td>\n",
       "      <td>1560</td>\n",
       "      <td>1560</td>\n",
       "      <td>1560</td>\n",
       "    </tr>\n",
       "    <tr>\n",
       "      <th>unique</th>\n",
       "      <td>1521</td>\n",
       "      <td>1224</td>\n",
       "      <td>1259</td>\n",
       "      <td>30</td>\n",
       "      <td>163</td>\n",
       "      <td>1519</td>\n",
       "      <td>225</td>\n",
       "      <td>11</td>\n",
       "    </tr>\n",
       "    <tr>\n",
       "      <th>top</th>\n",
       "      <td>Doing Justice: A Prosecutor’s Thoughts on Crim...</td>\n",
       "      <td>Agatha Christie</td>\n",
       "      <td>Paperback,– 2016</td>\n",
       "      <td>5.0 out of 5 stars</td>\n",
       "      <td>1 customer review</td>\n",
       "      <td>A Guardian Pick for 2019\\nThe People vs. Putin...</td>\n",
       "      <td>Action &amp; Adventure (Books)</td>\n",
       "      <td>Action &amp; Adventure</td>\n",
       "    </tr>\n",
       "    <tr>\n",
       "      <th>freq</th>\n",
       "      <td>3</td>\n",
       "      <td>18</td>\n",
       "      <td>12</td>\n",
       "      <td>376</td>\n",
       "      <td>288</td>\n",
       "      <td>3</td>\n",
       "      <td>236</td>\n",
       "      <td>218</td>\n",
       "    </tr>\n",
       "  </tbody>\n",
       "</table>\n",
       "</div>"
      ],
      "text/plain": [
       "                                                    Title           Author  \\\n",
       "count                                                1560             1560   \n",
       "unique                                               1521             1224   \n",
       "top     Doing Justice: A Prosecutor’s Thoughts on Crim...  Agatha Christie   \n",
       "freq                                                    3               18   \n",
       "\n",
       "                 Edition             Reviews            Ratings  \\\n",
       "count               1560                1560               1560   \n",
       "unique              1259                  30                163   \n",
       "top     Paperback,– 2016  5.0 out of 5 stars  1 customer review   \n",
       "freq                  12                 376                288   \n",
       "\n",
       "                                                 Synopsis  \\\n",
       "count                                                1560   \n",
       "unique                                               1519   \n",
       "top     A Guardian Pick for 2019\\nThe People vs. Putin...   \n",
       "freq                                                    3   \n",
       "\n",
       "                             Genre        BookCategory  \n",
       "count                         1560                1560  \n",
       "unique                         225                  11  \n",
       "top     Action & Adventure (Books)  Action & Adventure  \n",
       "freq                           236                 218  "
      ]
     },
     "execution_count": 174,
     "metadata": {},
     "output_type": "execute_result"
    }
   ],
   "source": [
    "df_Test.describe()"
   ]
  },
  {
   "cell_type": "code",
   "execution_count": 175,
   "metadata": {
    "colab": {
     "base_uri": "https://localhost:8080/",
     "height": 424
    },
    "executionInfo": {
     "elapsed": 59,
     "status": "ok",
     "timestamp": 1622484286635,
     "user": {
      "displayName": "SAURABH KUMAR",
      "photoUrl": "",
      "userId": "17886894809944321636"
     },
     "user_tz": -330
    },
    "id": "hCW4A1Vv3LUW",
    "outputId": "67412381-6eea-4ab4-bb7e-ab7734bc36b2"
   },
   "outputs": [
    {
     "data": {
      "text/html": [
       "<div>\n",
       "<style scoped>\n",
       "    .dataframe tbody tr th:only-of-type {\n",
       "        vertical-align: middle;\n",
       "    }\n",
       "\n",
       "    .dataframe tbody tr th {\n",
       "        vertical-align: top;\n",
       "    }\n",
       "\n",
       "    .dataframe thead th {\n",
       "        text-align: right;\n",
       "    }\n",
       "</style>\n",
       "<table border=\"1\" class=\"dataframe\">\n",
       "  <thead>\n",
       "    <tr style=\"text-align: right;\">\n",
       "      <th></th>\n",
       "      <th>Title</th>\n",
       "      <th>Author</th>\n",
       "      <th>Edition</th>\n",
       "      <th>Reviews</th>\n",
       "      <th>Ratings</th>\n",
       "      <th>Synopsis</th>\n",
       "      <th>Genre</th>\n",
       "      <th>BookCategory</th>\n",
       "      <th>Price</th>\n",
       "    </tr>\n",
       "  </thead>\n",
       "  <tbody>\n",
       "    <tr>\n",
       "      <th>count</th>\n",
       "      <td>6237</td>\n",
       "      <td>6237</td>\n",
       "      <td>6237</td>\n",
       "      <td>6237</td>\n",
       "      <td>6237</td>\n",
       "      <td>6237</td>\n",
       "      <td>6237</td>\n",
       "      <td>6237</td>\n",
       "      <td>6237.000000</td>\n",
       "    </tr>\n",
       "    <tr>\n",
       "      <th>unique</th>\n",
       "      <td>5568</td>\n",
       "      <td>3679</td>\n",
       "      <td>3370</td>\n",
       "      <td>36</td>\n",
       "      <td>342</td>\n",
       "      <td>5549</td>\n",
       "      <td>345</td>\n",
       "      <td>11</td>\n",
       "      <td>NaN</td>\n",
       "    </tr>\n",
       "    <tr>\n",
       "      <th>top</th>\n",
       "      <td>Casino Royale: James Bond 007 (Vintage)</td>\n",
       "      <td>Agatha Christie</td>\n",
       "      <td>Paperback,– 5 Oct 2017</td>\n",
       "      <td>5.0 out of 5 stars</td>\n",
       "      <td>1 customer review</td>\n",
       "      <td>A Tinkle Double Digest is two Tinkle Digests i...</td>\n",
       "      <td>Action &amp; Adventure (Books)</td>\n",
       "      <td>Action &amp; Adventure</td>\n",
       "      <td>NaN</td>\n",
       "    </tr>\n",
       "    <tr>\n",
       "      <th>freq</th>\n",
       "      <td>4</td>\n",
       "      <td>69</td>\n",
       "      <td>48</td>\n",
       "      <td>1375</td>\n",
       "      <td>1040</td>\n",
       "      <td>8</td>\n",
       "      <td>947</td>\n",
       "      <td>818</td>\n",
       "      <td>NaN</td>\n",
       "    </tr>\n",
       "    <tr>\n",
       "      <th>mean</th>\n",
       "      <td>NaN</td>\n",
       "      <td>NaN</td>\n",
       "      <td>NaN</td>\n",
       "      <td>NaN</td>\n",
       "      <td>NaN</td>\n",
       "      <td>NaN</td>\n",
       "      <td>NaN</td>\n",
       "      <td>NaN</td>\n",
       "      <td>560.707516</td>\n",
       "    </tr>\n",
       "    <tr>\n",
       "      <th>std</th>\n",
       "      <td>NaN</td>\n",
       "      <td>NaN</td>\n",
       "      <td>NaN</td>\n",
       "      <td>NaN</td>\n",
       "      <td>NaN</td>\n",
       "      <td>NaN</td>\n",
       "      <td>NaN</td>\n",
       "      <td>NaN</td>\n",
       "      <td>690.110657</td>\n",
       "    </tr>\n",
       "    <tr>\n",
       "      <th>min</th>\n",
       "      <td>NaN</td>\n",
       "      <td>NaN</td>\n",
       "      <td>NaN</td>\n",
       "      <td>NaN</td>\n",
       "      <td>NaN</td>\n",
       "      <td>NaN</td>\n",
       "      <td>NaN</td>\n",
       "      <td>NaN</td>\n",
       "      <td>25.000000</td>\n",
       "    </tr>\n",
       "    <tr>\n",
       "      <th>25%</th>\n",
       "      <td>NaN</td>\n",
       "      <td>NaN</td>\n",
       "      <td>NaN</td>\n",
       "      <td>NaN</td>\n",
       "      <td>NaN</td>\n",
       "      <td>NaN</td>\n",
       "      <td>NaN</td>\n",
       "      <td>NaN</td>\n",
       "      <td>249.180000</td>\n",
       "    </tr>\n",
       "    <tr>\n",
       "      <th>50%</th>\n",
       "      <td>NaN</td>\n",
       "      <td>NaN</td>\n",
       "      <td>NaN</td>\n",
       "      <td>NaN</td>\n",
       "      <td>NaN</td>\n",
       "      <td>NaN</td>\n",
       "      <td>NaN</td>\n",
       "      <td>NaN</td>\n",
       "      <td>373.000000</td>\n",
       "    </tr>\n",
       "    <tr>\n",
       "      <th>75%</th>\n",
       "      <td>NaN</td>\n",
       "      <td>NaN</td>\n",
       "      <td>NaN</td>\n",
       "      <td>NaN</td>\n",
       "      <td>NaN</td>\n",
       "      <td>NaN</td>\n",
       "      <td>NaN</td>\n",
       "      <td>NaN</td>\n",
       "      <td>599.000000</td>\n",
       "    </tr>\n",
       "    <tr>\n",
       "      <th>max</th>\n",
       "      <td>NaN</td>\n",
       "      <td>NaN</td>\n",
       "      <td>NaN</td>\n",
       "      <td>NaN</td>\n",
       "      <td>NaN</td>\n",
       "      <td>NaN</td>\n",
       "      <td>NaN</td>\n",
       "      <td>NaN</td>\n",
       "      <td>14100.000000</td>\n",
       "    </tr>\n",
       "  </tbody>\n",
       "</table>\n",
       "</div>"
      ],
      "text/plain": [
       "                                          Title           Author  \\\n",
       "count                                      6237             6237   \n",
       "unique                                     5568             3679   \n",
       "top     Casino Royale: James Bond 007 (Vintage)  Agatha Christie   \n",
       "freq                                          4               69   \n",
       "mean                                        NaN              NaN   \n",
       "std                                         NaN              NaN   \n",
       "min                                         NaN              NaN   \n",
       "25%                                         NaN              NaN   \n",
       "50%                                         NaN              NaN   \n",
       "75%                                         NaN              NaN   \n",
       "max                                         NaN              NaN   \n",
       "\n",
       "                       Edition             Reviews            Ratings  \\\n",
       "count                     6237                6237               6237   \n",
       "unique                    3370                  36                342   \n",
       "top     Paperback,– 5 Oct 2017  5.0 out of 5 stars  1 customer review   \n",
       "freq                        48                1375               1040   \n",
       "mean                       NaN                 NaN                NaN   \n",
       "std                        NaN                 NaN                NaN   \n",
       "min                        NaN                 NaN                NaN   \n",
       "25%                        NaN                 NaN                NaN   \n",
       "50%                        NaN                 NaN                NaN   \n",
       "75%                        NaN                 NaN                NaN   \n",
       "max                        NaN                 NaN                NaN   \n",
       "\n",
       "                                                 Synopsis  \\\n",
       "count                                                6237   \n",
       "unique                                               5549   \n",
       "top     A Tinkle Double Digest is two Tinkle Digests i...   \n",
       "freq                                                    8   \n",
       "mean                                                  NaN   \n",
       "std                                                   NaN   \n",
       "min                                                   NaN   \n",
       "25%                                                   NaN   \n",
       "50%                                                   NaN   \n",
       "75%                                                   NaN   \n",
       "max                                                   NaN   \n",
       "\n",
       "                             Genre        BookCategory         Price  \n",
       "count                         6237                6237   6237.000000  \n",
       "unique                         345                  11           NaN  \n",
       "top     Action & Adventure (Books)  Action & Adventure           NaN  \n",
       "freq                           947                 818           NaN  \n",
       "mean                           NaN                 NaN    560.707516  \n",
       "std                            NaN                 NaN    690.110657  \n",
       "min                            NaN                 NaN     25.000000  \n",
       "25%                            NaN                 NaN    249.180000  \n",
       "50%                            NaN                 NaN    373.000000  \n",
       "75%                            NaN                 NaN    599.000000  \n",
       "max                            NaN                 NaN  14100.000000  "
      ]
     },
     "execution_count": 175,
     "metadata": {},
     "output_type": "execute_result"
    }
   ],
   "source": [
    "df_Train.describe(include=\"all\")"
   ]
  },
  {
   "cell_type": "code",
   "execution_count": 176,
   "metadata": {
    "colab": {
     "base_uri": "https://localhost:8080/"
    },
    "executionInfo": {
     "elapsed": 59,
     "status": "ok",
     "timestamp": 1622484286637,
     "user": {
      "displayName": "SAURABH KUMAR",
      "photoUrl": "",
      "userId": "17886894809944321636"
     },
     "user_tz": -330
    },
    "id": "wZIIqoUR3Xm1",
    "outputId": "48419d09-7dc3-48fc-fb2b-94c3be1f0f0e"
   },
   "outputs": [
    {
     "name": "stdout",
     "output_type": "stream",
     "text": [
      "<class 'pandas.core.frame.DataFrame'>\n",
      "RangeIndex: 1560 entries, 0 to 1559\n",
      "Data columns (total 8 columns):\n",
      " #   Column        Non-Null Count  Dtype \n",
      "---  ------        --------------  ----- \n",
      " 0   Title         1560 non-null   object\n",
      " 1   Author        1560 non-null   object\n",
      " 2   Edition       1560 non-null   object\n",
      " 3   Reviews       1560 non-null   object\n",
      " 4   Ratings       1560 non-null   object\n",
      " 5   Synopsis      1560 non-null   object\n",
      " 6   Genre         1560 non-null   object\n",
      " 7   BookCategory  1560 non-null   object\n",
      "dtypes: object(8)\n",
      "memory usage: 97.6+ KB\n"
     ]
    }
   ],
   "source": [
    "df_Test.info()"
   ]
  },
  {
   "cell_type": "code",
   "execution_count": 177,
   "metadata": {
    "colab": {
     "base_uri": "https://localhost:8080/"
    },
    "executionInfo": {
     "elapsed": 55,
     "status": "ok",
     "timestamp": 1622484286638,
     "user": {
      "displayName": "SAURABH KUMAR",
      "photoUrl": "",
      "userId": "17886894809944321636"
     },
     "user_tz": -330
    },
    "id": "ZgGo0JWx3zlM",
    "outputId": "952d0e76-20bf-4015-9cd4-c90a44d85ad6"
   },
   "outputs": [
    {
     "name": "stdout",
     "output_type": "stream",
     "text": [
      "<class 'pandas.core.frame.DataFrame'>\n",
      "RangeIndex: 6237 entries, 0 to 6236\n",
      "Data columns (total 9 columns):\n",
      " #   Column        Non-Null Count  Dtype  \n",
      "---  ------        --------------  -----  \n",
      " 0   Title         6237 non-null   object \n",
      " 1   Author        6237 non-null   object \n",
      " 2   Edition       6237 non-null   object \n",
      " 3   Reviews       6237 non-null   object \n",
      " 4   Ratings       6237 non-null   object \n",
      " 5   Synopsis      6237 non-null   object \n",
      " 6   Genre         6237 non-null   object \n",
      " 7   BookCategory  6237 non-null   object \n",
      " 8   Price         6237 non-null   float64\n",
      "dtypes: float64(1), object(8)\n",
      "memory usage: 438.7+ KB\n"
     ]
    }
   ],
   "source": [
    "df_Train.info()"
   ]
  },
  {
   "cell_type": "code",
   "execution_count": 178,
   "metadata": {
    "executionInfo": {
     "elapsed": 51,
     "status": "ok",
     "timestamp": 1622484286639,
     "user": {
      "displayName": "SAURABH KUMAR",
      "photoUrl": "",
      "userId": "17886894809944321636"
     },
     "user_tz": -330
    },
    "id": "rgqnsCst34S3"
   },
   "outputs": [],
   "source": [
    "df_Train.drop(['Title','Author','Synopsis','Genre'],axis=1,inplace=True)"
   ]
  },
  {
   "cell_type": "code",
   "execution_count": 179,
   "metadata": {
    "executionInfo": {
     "elapsed": 51,
     "status": "ok",
     "timestamp": 1622484286640,
     "user": {
      "displayName": "SAURABH KUMAR",
      "photoUrl": "",
      "userId": "17886894809944321636"
     },
     "user_tz": -330
    },
    "id": "FuI_QtXv4ePT"
   },
   "outputs": [],
   "source": [
    "df_Test.drop(['Title','Author','Synopsis','Genre'],axis=1,inplace=True)"
   ]
  },
  {
   "cell_type": "code",
   "execution_count": 180,
   "metadata": {
    "colab": {
     "base_uri": "https://localhost:8080/",
     "height": 204
    },
    "executionInfo": {
     "elapsed": 54,
     "status": "ok",
     "timestamp": 1622484286643,
     "user": {
      "displayName": "SAURABH KUMAR",
      "photoUrl": "",
      "userId": "17886894809944321636"
     },
     "user_tz": -330
    },
    "id": "UgaA6fyh5LtM",
    "outputId": "72c7ef9b-148b-4de8-b991-a65bcb5dc764"
   },
   "outputs": [
    {
     "data": {
      "text/html": [
       "<div>\n",
       "<style scoped>\n",
       "    .dataframe tbody tr th:only-of-type {\n",
       "        vertical-align: middle;\n",
       "    }\n",
       "\n",
       "    .dataframe tbody tr th {\n",
       "        vertical-align: top;\n",
       "    }\n",
       "\n",
       "    .dataframe thead th {\n",
       "        text-align: right;\n",
       "    }\n",
       "</style>\n",
       "<table border=\"1\" class=\"dataframe\">\n",
       "  <thead>\n",
       "    <tr style=\"text-align: right;\">\n",
       "      <th></th>\n",
       "      <th>Edition</th>\n",
       "      <th>Reviews</th>\n",
       "      <th>Ratings</th>\n",
       "      <th>BookCategory</th>\n",
       "    </tr>\n",
       "  </thead>\n",
       "  <tbody>\n",
       "    <tr>\n",
       "      <th>0</th>\n",
       "      <td>Mass Market Paperback,– 1 Oct 1986</td>\n",
       "      <td>4.4 out of 5 stars</td>\n",
       "      <td>960 customer reviews</td>\n",
       "      <td>Crime, Thriller &amp; Mystery</td>\n",
       "    </tr>\n",
       "    <tr>\n",
       "      <th>1</th>\n",
       "      <td>Paperback,– Import, 26 Apr 2018</td>\n",
       "      <td>5.0 out of 5 stars</td>\n",
       "      <td>1 customer review</td>\n",
       "      <td>Computing, Internet &amp; Digital Media</td>\n",
       "    </tr>\n",
       "    <tr>\n",
       "      <th>2</th>\n",
       "      <td>Paperback,– 17 Mar 2011</td>\n",
       "      <td>5.0 out of 5 stars</td>\n",
       "      <td>4 customer reviews</td>\n",
       "      <td>Romance</td>\n",
       "    </tr>\n",
       "    <tr>\n",
       "      <th>3</th>\n",
       "      <td>Paperback,– 2016</td>\n",
       "      <td>4.1 out of 5 stars</td>\n",
       "      <td>11 customer reviews</td>\n",
       "      <td>Computing, Internet &amp; Digital Media</td>\n",
       "    </tr>\n",
       "    <tr>\n",
       "      <th>4</th>\n",
       "      <td>Paperback,– 26 Dec 2011</td>\n",
       "      <td>4.4 out of 5 stars</td>\n",
       "      <td>9 customer reviews</td>\n",
       "      <td>Language, Linguistics &amp; Writing</td>\n",
       "    </tr>\n",
       "  </tbody>\n",
       "</table>\n",
       "</div>"
      ],
      "text/plain": [
       "                              Edition             Reviews  \\\n",
       "0  Mass Market Paperback,– 1 Oct 1986  4.4 out of 5 stars   \n",
       "1     Paperback,– Import, 26 Apr 2018  5.0 out of 5 stars   \n",
       "2             Paperback,– 17 Mar 2011  5.0 out of 5 stars   \n",
       "3                    Paperback,– 2016  4.1 out of 5 stars   \n",
       "4             Paperback,– 26 Dec 2011  4.4 out of 5 stars   \n",
       "\n",
       "                Ratings                         BookCategory  \n",
       "0  960 customer reviews            Crime, Thriller & Mystery  \n",
       "1     1 customer review  Computing, Internet & Digital Media  \n",
       "2    4 customer reviews                              Romance  \n",
       "3   11 customer reviews  Computing, Internet & Digital Media  \n",
       "4    9 customer reviews      Language, Linguistics & Writing  "
      ]
     },
     "execution_count": 180,
     "metadata": {},
     "output_type": "execute_result"
    }
   ],
   "source": [
    "df_Test.head()"
   ]
  },
  {
   "cell_type": "code",
   "execution_count": 181,
   "metadata": {
    "colab": {
     "base_uri": "https://localhost:8080/",
     "height": 204
    },
    "executionInfo": {
     "elapsed": 53,
     "status": "ok",
     "timestamp": 1622484286644,
     "user": {
      "displayName": "SAURABH KUMAR",
      "photoUrl": "",
      "userId": "17886894809944321636"
     },
     "user_tz": -330
    },
    "id": "UCmbzmSx59Hd",
    "outputId": "5cd19af3-04d0-42a2-a1e6-9c62919fda00"
   },
   "outputs": [
    {
     "data": {
      "text/html": [
       "<div>\n",
       "<style scoped>\n",
       "    .dataframe tbody tr th:only-of-type {\n",
       "        vertical-align: middle;\n",
       "    }\n",
       "\n",
       "    .dataframe tbody tr th {\n",
       "        vertical-align: top;\n",
       "    }\n",
       "\n",
       "    .dataframe thead th {\n",
       "        text-align: right;\n",
       "    }\n",
       "</style>\n",
       "<table border=\"1\" class=\"dataframe\">\n",
       "  <thead>\n",
       "    <tr style=\"text-align: right;\">\n",
       "      <th></th>\n",
       "      <th>Edition</th>\n",
       "      <th>Reviews</th>\n",
       "      <th>Ratings</th>\n",
       "      <th>BookCategory</th>\n",
       "      <th>Price</th>\n",
       "    </tr>\n",
       "  </thead>\n",
       "  <tbody>\n",
       "    <tr>\n",
       "      <th>0</th>\n",
       "      <td>Paperback,– 10 Mar 2016</td>\n",
       "      <td>4.0 out of 5 stars</td>\n",
       "      <td>8 customer reviews</td>\n",
       "      <td>Action &amp; Adventure</td>\n",
       "      <td>220.00</td>\n",
       "    </tr>\n",
       "    <tr>\n",
       "      <th>1</th>\n",
       "      <td>Paperback,– 7 Nov 2012</td>\n",
       "      <td>3.9 out of 5 stars</td>\n",
       "      <td>14 customer reviews</td>\n",
       "      <td>Biographies, Diaries &amp; True Accounts</td>\n",
       "      <td>202.93</td>\n",
       "    </tr>\n",
       "    <tr>\n",
       "      <th>2</th>\n",
       "      <td>Paperback,– 25 Feb 1982</td>\n",
       "      <td>4.8 out of 5 stars</td>\n",
       "      <td>6 customer reviews</td>\n",
       "      <td>Humour</td>\n",
       "      <td>299.00</td>\n",
       "    </tr>\n",
       "    <tr>\n",
       "      <th>3</th>\n",
       "      <td>Paperback,– 5 Oct 2017</td>\n",
       "      <td>4.1 out of 5 stars</td>\n",
       "      <td>13 customer reviews</td>\n",
       "      <td>Crime, Thriller &amp; Mystery</td>\n",
       "      <td>180.00</td>\n",
       "    </tr>\n",
       "    <tr>\n",
       "      <th>4</th>\n",
       "      <td>Hardcover,– 10 Oct 2006</td>\n",
       "      <td>5.0 out of 5 stars</td>\n",
       "      <td>1 customer review</td>\n",
       "      <td>Arts, Film &amp; Photography</td>\n",
       "      <td>965.62</td>\n",
       "    </tr>\n",
       "  </tbody>\n",
       "</table>\n",
       "</div>"
      ],
      "text/plain": [
       "                   Edition             Reviews              Ratings  \\\n",
       "0  Paperback,– 10 Mar 2016  4.0 out of 5 stars   8 customer reviews   \n",
       "1   Paperback,– 7 Nov 2012  3.9 out of 5 stars  14 customer reviews   \n",
       "2  Paperback,– 25 Feb 1982  4.8 out of 5 stars   6 customer reviews   \n",
       "3   Paperback,– 5 Oct 2017  4.1 out of 5 stars  13 customer reviews   \n",
       "4  Hardcover,– 10 Oct 2006  5.0 out of 5 stars    1 customer review   \n",
       "\n",
       "                           BookCategory   Price  \n",
       "0                    Action & Adventure  220.00  \n",
       "1  Biographies, Diaries & True Accounts  202.93  \n",
       "2                                Humour  299.00  \n",
       "3             Crime, Thriller & Mystery  180.00  \n",
       "4              Arts, Film & Photography  965.62  "
      ]
     },
     "execution_count": 181,
     "metadata": {},
     "output_type": "execute_result"
    }
   ],
   "source": [
    "df_Train.head()"
   ]
  },
  {
   "cell_type": "code",
   "execution_count": 182,
   "metadata": {
    "executionInfo": {
     "elapsed": 53,
     "status": "ok",
     "timestamp": 1622484286645,
     "user": {
      "displayName": "SAURABH KUMAR",
      "photoUrl": "",
      "userId": "17886894809944321636"
     },
     "user_tz": -330
    },
    "id": "LMTednDg8Zct"
   },
   "outputs": [],
   "source": [
    "df_Test['Ratings']=df_Test['Ratings'].str[0].astype('float64')"
   ]
  },
  {
   "cell_type": "code",
   "execution_count": 183,
   "metadata": {
    "executionInfo": {
     "elapsed": 53,
     "status": "ok",
     "timestamp": 1622484286646,
     "user": {
      "displayName": "SAURABH KUMAR",
      "photoUrl": "",
      "userId": "17886894809944321636"
     },
     "user_tz": -330
    },
    "id": "4lr4auAC8jog"
   },
   "outputs": [],
   "source": [
    "df_Train['Ratings']=df_Train['Ratings'].str[0].astype('float64')"
   ]
  },
  {
   "cell_type": "code",
   "execution_count": 184,
   "metadata": {
    "colab": {
     "base_uri": "https://localhost:8080/",
     "height": 204
    },
    "executionInfo": {
     "elapsed": 52,
     "status": "ok",
     "timestamp": 1622484286647,
     "user": {
      "displayName": "SAURABH KUMAR",
      "photoUrl": "",
      "userId": "17886894809944321636"
     },
     "user_tz": -330
    },
    "id": "0XBHXaG2-EmK",
    "outputId": "97cd3bad-3425-4f80-f60f-de1912decec9"
   },
   "outputs": [
    {
     "data": {
      "text/html": [
       "<div>\n",
       "<style scoped>\n",
       "    .dataframe tbody tr th:only-of-type {\n",
       "        vertical-align: middle;\n",
       "    }\n",
       "\n",
       "    .dataframe tbody tr th {\n",
       "        vertical-align: top;\n",
       "    }\n",
       "\n",
       "    .dataframe thead th {\n",
       "        text-align: right;\n",
       "    }\n",
       "</style>\n",
       "<table border=\"1\" class=\"dataframe\">\n",
       "  <thead>\n",
       "    <tr style=\"text-align: right;\">\n",
       "      <th></th>\n",
       "      <th>Edition</th>\n",
       "      <th>Reviews</th>\n",
       "      <th>Ratings</th>\n",
       "      <th>BookCategory</th>\n",
       "      <th>Price</th>\n",
       "    </tr>\n",
       "  </thead>\n",
       "  <tbody>\n",
       "    <tr>\n",
       "      <th>0</th>\n",
       "      <td>Paperback,– 10 Mar 2016</td>\n",
       "      <td>4.0 out of 5 stars</td>\n",
       "      <td>8.0</td>\n",
       "      <td>Action &amp; Adventure</td>\n",
       "      <td>220.00</td>\n",
       "    </tr>\n",
       "    <tr>\n",
       "      <th>1</th>\n",
       "      <td>Paperback,– 7 Nov 2012</td>\n",
       "      <td>3.9 out of 5 stars</td>\n",
       "      <td>1.0</td>\n",
       "      <td>Biographies, Diaries &amp; True Accounts</td>\n",
       "      <td>202.93</td>\n",
       "    </tr>\n",
       "    <tr>\n",
       "      <th>2</th>\n",
       "      <td>Paperback,– 25 Feb 1982</td>\n",
       "      <td>4.8 out of 5 stars</td>\n",
       "      <td>6.0</td>\n",
       "      <td>Humour</td>\n",
       "      <td>299.00</td>\n",
       "    </tr>\n",
       "    <tr>\n",
       "      <th>3</th>\n",
       "      <td>Paperback,– 5 Oct 2017</td>\n",
       "      <td>4.1 out of 5 stars</td>\n",
       "      <td>1.0</td>\n",
       "      <td>Crime, Thriller &amp; Mystery</td>\n",
       "      <td>180.00</td>\n",
       "    </tr>\n",
       "    <tr>\n",
       "      <th>4</th>\n",
       "      <td>Hardcover,– 10 Oct 2006</td>\n",
       "      <td>5.0 out of 5 stars</td>\n",
       "      <td>1.0</td>\n",
       "      <td>Arts, Film &amp; Photography</td>\n",
       "      <td>965.62</td>\n",
       "    </tr>\n",
       "  </tbody>\n",
       "</table>\n",
       "</div>"
      ],
      "text/plain": [
       "                   Edition             Reviews  Ratings  \\\n",
       "0  Paperback,– 10 Mar 2016  4.0 out of 5 stars      8.0   \n",
       "1   Paperback,– 7 Nov 2012  3.9 out of 5 stars      1.0   \n",
       "2  Paperback,– 25 Feb 1982  4.8 out of 5 stars      6.0   \n",
       "3   Paperback,– 5 Oct 2017  4.1 out of 5 stars      1.0   \n",
       "4  Hardcover,– 10 Oct 2006  5.0 out of 5 stars      1.0   \n",
       "\n",
       "                           BookCategory   Price  \n",
       "0                    Action & Adventure  220.00  \n",
       "1  Biographies, Diaries & True Accounts  202.93  \n",
       "2                                Humour  299.00  \n",
       "3             Crime, Thriller & Mystery  180.00  \n",
       "4              Arts, Film & Photography  965.62  "
      ]
     },
     "execution_count": 184,
     "metadata": {},
     "output_type": "execute_result"
    }
   ],
   "source": [
    "df_Train.head()"
   ]
  },
  {
   "cell_type": "code",
   "execution_count": 185,
   "metadata": {
    "executionInfo": {
     "elapsed": 51,
     "status": "ok",
     "timestamp": 1622484286648,
     "user": {
      "displayName": "SAURABH KUMAR",
      "photoUrl": "",
      "userId": "17886894809944321636"
     },
     "user_tz": -330
    },
    "id": "SnJAFlkQ-ItT"
   },
   "outputs": [],
   "source": [
    "df_Train['Reviews']=df_Train['Reviews'].str[0].astype('float64')"
   ]
  },
  {
   "cell_type": "code",
   "execution_count": 186,
   "metadata": {
    "executionInfo": {
     "elapsed": 52,
     "status": "ok",
     "timestamp": 1622484286649,
     "user": {
      "displayName": "SAURABH KUMAR",
      "photoUrl": "",
      "userId": "17886894809944321636"
     },
     "user_tz": -330
    },
    "id": "hLh5igoeCffF"
   },
   "outputs": [],
   "source": [
    "df_Test['Reviews']=df_Test['Reviews'].str[0].astype('float64')"
   ]
  },
  {
   "cell_type": "code",
   "execution_count": 187,
   "metadata": {
    "colab": {
     "base_uri": "https://localhost:8080/",
     "height": 204
    },
    "executionInfo": {
     "elapsed": 52,
     "status": "ok",
     "timestamp": 1622484286650,
     "user": {
      "displayName": "SAURABH KUMAR",
      "photoUrl": "",
      "userId": "17886894809944321636"
     },
     "user_tz": -330
    },
    "id": "mlKFMOS6-5j3",
    "outputId": "0dcd3d2e-4461-4063-9004-1d7f37e81453"
   },
   "outputs": [
    {
     "data": {
      "text/html": [
       "<div>\n",
       "<style scoped>\n",
       "    .dataframe tbody tr th:only-of-type {\n",
       "        vertical-align: middle;\n",
       "    }\n",
       "\n",
       "    .dataframe tbody tr th {\n",
       "        vertical-align: top;\n",
       "    }\n",
       "\n",
       "    .dataframe thead th {\n",
       "        text-align: right;\n",
       "    }\n",
       "</style>\n",
       "<table border=\"1\" class=\"dataframe\">\n",
       "  <thead>\n",
       "    <tr style=\"text-align: right;\">\n",
       "      <th></th>\n",
       "      <th>Edition</th>\n",
       "      <th>Reviews</th>\n",
       "      <th>Ratings</th>\n",
       "      <th>BookCategory</th>\n",
       "    </tr>\n",
       "  </thead>\n",
       "  <tbody>\n",
       "    <tr>\n",
       "      <th>0</th>\n",
       "      <td>Mass Market Paperback,– 1 Oct 1986</td>\n",
       "      <td>4.0</td>\n",
       "      <td>9.0</td>\n",
       "      <td>Crime, Thriller &amp; Mystery</td>\n",
       "    </tr>\n",
       "    <tr>\n",
       "      <th>1</th>\n",
       "      <td>Paperback,– Import, 26 Apr 2018</td>\n",
       "      <td>5.0</td>\n",
       "      <td>1.0</td>\n",
       "      <td>Computing, Internet &amp; Digital Media</td>\n",
       "    </tr>\n",
       "    <tr>\n",
       "      <th>2</th>\n",
       "      <td>Paperback,– 17 Mar 2011</td>\n",
       "      <td>5.0</td>\n",
       "      <td>4.0</td>\n",
       "      <td>Romance</td>\n",
       "    </tr>\n",
       "    <tr>\n",
       "      <th>3</th>\n",
       "      <td>Paperback,– 2016</td>\n",
       "      <td>4.0</td>\n",
       "      <td>1.0</td>\n",
       "      <td>Computing, Internet &amp; Digital Media</td>\n",
       "    </tr>\n",
       "    <tr>\n",
       "      <th>4</th>\n",
       "      <td>Paperback,– 26 Dec 2011</td>\n",
       "      <td>4.0</td>\n",
       "      <td>9.0</td>\n",
       "      <td>Language, Linguistics &amp; Writing</td>\n",
       "    </tr>\n",
       "  </tbody>\n",
       "</table>\n",
       "</div>"
      ],
      "text/plain": [
       "                              Edition  Reviews  Ratings  \\\n",
       "0  Mass Market Paperback,– 1 Oct 1986      4.0      9.0   \n",
       "1     Paperback,– Import, 26 Apr 2018      5.0      1.0   \n",
       "2             Paperback,– 17 Mar 2011      5.0      4.0   \n",
       "3                    Paperback,– 2016      4.0      1.0   \n",
       "4             Paperback,– 26 Dec 2011      4.0      9.0   \n",
       "\n",
       "                          BookCategory  \n",
       "0            Crime, Thriller & Mystery  \n",
       "1  Computing, Internet & Digital Media  \n",
       "2                              Romance  \n",
       "3  Computing, Internet & Digital Media  \n",
       "4      Language, Linguistics & Writing  "
      ]
     },
     "execution_count": 187,
     "metadata": {},
     "output_type": "execute_result"
    }
   ],
   "source": [
    "df_Test.head()"
   ]
  },
  {
   "cell_type": "code",
   "execution_count": 188,
   "metadata": {
    "executionInfo": {
     "elapsed": 27,
     "status": "ok",
     "timestamp": 1622484287136,
     "user": {
      "displayName": "SAURABH KUMAR",
      "photoUrl": "",
      "userId": "17886894809944321636"
     },
     "user_tz": -330
    },
    "id": "9caUpcOZ_7vS"
   },
   "outputs": [],
   "source": [
    "df_Train['Edition type']=df_Train['Edition'].str.split('–').str[0].str.replace(',', '')"
   ]
  },
  {
   "cell_type": "code",
   "execution_count": 189,
   "metadata": {
    "colab": {
     "base_uri": "https://localhost:8080/"
    },
    "executionInfo": {
     "elapsed": 27,
     "status": "ok",
     "timestamp": 1622484287137,
     "user": {
      "displayName": "SAURABH KUMAR",
      "photoUrl": "",
      "userId": "17886894809944321636"
     },
     "user_tz": -330
    },
    "id": "6MbDA5lGABEe",
    "outputId": "c844900a-5bc8-4229-e720-194389e2dc50"
   },
   "outputs": [
    {
     "data": {
      "text/plain": [
       "dtype('O')"
      ]
     },
     "execution_count": 189,
     "metadata": {},
     "output_type": "execute_result"
    }
   ],
   "source": [
    "df_Train.Edition.dtype"
   ]
  },
  {
   "cell_type": "code",
   "execution_count": 190,
   "metadata": {
    "executionInfo": {
     "elapsed": 23,
     "status": "ok",
     "timestamp": 1622484287139,
     "user": {
      "displayName": "SAURABH KUMAR",
      "photoUrl": "",
      "userId": "17886894809944321636"
     },
     "user_tz": -330
    },
    "id": "9apkKJoZBsDi"
   },
   "outputs": [],
   "source": [
    "df_Test['Edition type']=df_Test['Edition'].str.split('–').str[0].str.replace(',', '')"
   ]
  },
  {
   "cell_type": "code",
   "execution_count": 191,
   "metadata": {
    "executionInfo": {
     "elapsed": 25,
     "status": "ok",
     "timestamp": 1622484287142,
     "user": {
      "displayName": "SAURABH KUMAR",
      "photoUrl": "",
      "userId": "17886894809944321636"
     },
     "user_tz": -330
    },
    "id": "UHcT1ckqCt9m"
   },
   "outputs": [],
   "source": [
    "df_Train['Edition year']=df_Train['Edition'].str.split(' ').str[-1]\n",
    "df_Test['Edition year']=df_Test['Edition'].str.split(' ').str[-1]"
   ]
  },
  {
   "cell_type": "code",
   "execution_count": 192,
   "metadata": {
    "colab": {
     "base_uri": "https://localhost:8080/",
     "height": 204
    },
    "executionInfo": {
     "elapsed": 25,
     "status": "ok",
     "timestamp": 1622484287143,
     "user": {
      "displayName": "SAURABH KUMAR",
      "photoUrl": "",
      "userId": "17886894809944321636"
     },
     "user_tz": -330
    },
    "id": "MqVe7wKtCwjB",
    "outputId": "8c14534c-6899-4ee1-a4d7-731c86736863"
   },
   "outputs": [
    {
     "data": {
      "text/html": [
       "<div>\n",
       "<style scoped>\n",
       "    .dataframe tbody tr th:only-of-type {\n",
       "        vertical-align: middle;\n",
       "    }\n",
       "\n",
       "    .dataframe tbody tr th {\n",
       "        vertical-align: top;\n",
       "    }\n",
       "\n",
       "    .dataframe thead th {\n",
       "        text-align: right;\n",
       "    }\n",
       "</style>\n",
       "<table border=\"1\" class=\"dataframe\">\n",
       "  <thead>\n",
       "    <tr style=\"text-align: right;\">\n",
       "      <th></th>\n",
       "      <th>Edition</th>\n",
       "      <th>Reviews</th>\n",
       "      <th>Ratings</th>\n",
       "      <th>BookCategory</th>\n",
       "      <th>Price</th>\n",
       "      <th>Edition type</th>\n",
       "      <th>Edition year</th>\n",
       "    </tr>\n",
       "  </thead>\n",
       "  <tbody>\n",
       "    <tr>\n",
       "      <th>0</th>\n",
       "      <td>Paperback,– 10 Mar 2016</td>\n",
       "      <td>4.0</td>\n",
       "      <td>8.0</td>\n",
       "      <td>Action &amp; Adventure</td>\n",
       "      <td>220.00</td>\n",
       "      <td>Paperback</td>\n",
       "      <td>2016</td>\n",
       "    </tr>\n",
       "    <tr>\n",
       "      <th>1</th>\n",
       "      <td>Paperback,– 7 Nov 2012</td>\n",
       "      <td>3.0</td>\n",
       "      <td>1.0</td>\n",
       "      <td>Biographies, Diaries &amp; True Accounts</td>\n",
       "      <td>202.93</td>\n",
       "      <td>Paperback</td>\n",
       "      <td>2012</td>\n",
       "    </tr>\n",
       "    <tr>\n",
       "      <th>2</th>\n",
       "      <td>Paperback,– 25 Feb 1982</td>\n",
       "      <td>4.0</td>\n",
       "      <td>6.0</td>\n",
       "      <td>Humour</td>\n",
       "      <td>299.00</td>\n",
       "      <td>Paperback</td>\n",
       "      <td>1982</td>\n",
       "    </tr>\n",
       "    <tr>\n",
       "      <th>3</th>\n",
       "      <td>Paperback,– 5 Oct 2017</td>\n",
       "      <td>4.0</td>\n",
       "      <td>1.0</td>\n",
       "      <td>Crime, Thriller &amp; Mystery</td>\n",
       "      <td>180.00</td>\n",
       "      <td>Paperback</td>\n",
       "      <td>2017</td>\n",
       "    </tr>\n",
       "    <tr>\n",
       "      <th>4</th>\n",
       "      <td>Hardcover,– 10 Oct 2006</td>\n",
       "      <td>5.0</td>\n",
       "      <td>1.0</td>\n",
       "      <td>Arts, Film &amp; Photography</td>\n",
       "      <td>965.62</td>\n",
       "      <td>Hardcover</td>\n",
       "      <td>2006</td>\n",
       "    </tr>\n",
       "  </tbody>\n",
       "</table>\n",
       "</div>"
      ],
      "text/plain": [
       "                   Edition  Reviews  Ratings  \\\n",
       "0  Paperback,– 10 Mar 2016      4.0      8.0   \n",
       "1   Paperback,– 7 Nov 2012      3.0      1.0   \n",
       "2  Paperback,– 25 Feb 1982      4.0      6.0   \n",
       "3   Paperback,– 5 Oct 2017      4.0      1.0   \n",
       "4  Hardcover,– 10 Oct 2006      5.0      1.0   \n",
       "\n",
       "                           BookCategory   Price Edition type Edition year  \n",
       "0                    Action & Adventure  220.00    Paperback         2016  \n",
       "1  Biographies, Diaries & True Accounts  202.93    Paperback         2012  \n",
       "2                                Humour  299.00    Paperback         1982  \n",
       "3             Crime, Thriller & Mystery  180.00    Paperback         2017  \n",
       "4              Arts, Film & Photography  965.62    Hardcover         2006  "
      ]
     },
     "execution_count": 192,
     "metadata": {},
     "output_type": "execute_result"
    }
   ],
   "source": [
    "df_Train.head()"
   ]
  },
  {
   "cell_type": "code",
   "execution_count": 193,
   "metadata": {
    "colab": {
     "base_uri": "https://localhost:8080/",
     "height": 204
    },
    "executionInfo": {
     "elapsed": 25,
     "status": "ok",
     "timestamp": 1622484287144,
     "user": {
      "displayName": "SAURABH KUMAR",
      "photoUrl": "",
      "userId": "17886894809944321636"
     },
     "user_tz": -330
    },
    "id": "ZoTnphJyC5A_",
    "outputId": "62d5f213-a71e-4e1d-bb2c-0c14fe53bb68"
   },
   "outputs": [
    {
     "data": {
      "text/html": [
       "<div>\n",
       "<style scoped>\n",
       "    .dataframe tbody tr th:only-of-type {\n",
       "        vertical-align: middle;\n",
       "    }\n",
       "\n",
       "    .dataframe tbody tr th {\n",
       "        vertical-align: top;\n",
       "    }\n",
       "\n",
       "    .dataframe thead th {\n",
       "        text-align: right;\n",
       "    }\n",
       "</style>\n",
       "<table border=\"1\" class=\"dataframe\">\n",
       "  <thead>\n",
       "    <tr style=\"text-align: right;\">\n",
       "      <th></th>\n",
       "      <th>Edition</th>\n",
       "      <th>Reviews</th>\n",
       "      <th>Ratings</th>\n",
       "      <th>BookCategory</th>\n",
       "      <th>Edition type</th>\n",
       "      <th>Edition year</th>\n",
       "    </tr>\n",
       "  </thead>\n",
       "  <tbody>\n",
       "    <tr>\n",
       "      <th>0</th>\n",
       "      <td>Mass Market Paperback,– 1 Oct 1986</td>\n",
       "      <td>4.0</td>\n",
       "      <td>9.0</td>\n",
       "      <td>Crime, Thriller &amp; Mystery</td>\n",
       "      <td>Mass Market Paperback</td>\n",
       "      <td>1986</td>\n",
       "    </tr>\n",
       "    <tr>\n",
       "      <th>1</th>\n",
       "      <td>Paperback,– Import, 26 Apr 2018</td>\n",
       "      <td>5.0</td>\n",
       "      <td>1.0</td>\n",
       "      <td>Computing, Internet &amp; Digital Media</td>\n",
       "      <td>Paperback</td>\n",
       "      <td>2018</td>\n",
       "    </tr>\n",
       "    <tr>\n",
       "      <th>2</th>\n",
       "      <td>Paperback,– 17 Mar 2011</td>\n",
       "      <td>5.0</td>\n",
       "      <td>4.0</td>\n",
       "      <td>Romance</td>\n",
       "      <td>Paperback</td>\n",
       "      <td>2011</td>\n",
       "    </tr>\n",
       "    <tr>\n",
       "      <th>3</th>\n",
       "      <td>Paperback,– 2016</td>\n",
       "      <td>4.0</td>\n",
       "      <td>1.0</td>\n",
       "      <td>Computing, Internet &amp; Digital Media</td>\n",
       "      <td>Paperback</td>\n",
       "      <td>2016</td>\n",
       "    </tr>\n",
       "    <tr>\n",
       "      <th>4</th>\n",
       "      <td>Paperback,– 26 Dec 2011</td>\n",
       "      <td>4.0</td>\n",
       "      <td>9.0</td>\n",
       "      <td>Language, Linguistics &amp; Writing</td>\n",
       "      <td>Paperback</td>\n",
       "      <td>2011</td>\n",
       "    </tr>\n",
       "  </tbody>\n",
       "</table>\n",
       "</div>"
      ],
      "text/plain": [
       "                              Edition  Reviews  Ratings  \\\n",
       "0  Mass Market Paperback,– 1 Oct 1986      4.0      9.0   \n",
       "1     Paperback,– Import, 26 Apr 2018      5.0      1.0   \n",
       "2             Paperback,– 17 Mar 2011      5.0      4.0   \n",
       "3                    Paperback,– 2016      4.0      1.0   \n",
       "4             Paperback,– 26 Dec 2011      4.0      9.0   \n",
       "\n",
       "                          BookCategory           Edition type Edition year  \n",
       "0            Crime, Thriller & Mystery  Mass Market Paperback         1986  \n",
       "1  Computing, Internet & Digital Media              Paperback         2018  \n",
       "2                              Romance              Paperback         2011  \n",
       "3  Computing, Internet & Digital Media              Paperback         2016  \n",
       "4      Language, Linguistics & Writing              Paperback         2011  "
      ]
     },
     "execution_count": 193,
     "metadata": {},
     "output_type": "execute_result"
    }
   ],
   "source": [
    "df_Test.head()"
   ]
  },
  {
   "cell_type": "code",
   "execution_count": 194,
   "metadata": {
    "colab": {
     "base_uri": "https://localhost:8080/"
    },
    "executionInfo": {
     "elapsed": 25,
     "status": "ok",
     "timestamp": 1622484287145,
     "user": {
      "displayName": "SAURABH KUMAR",
      "photoUrl": "",
      "userId": "17886894809944321636"
     },
     "user_tz": -330
    },
    "id": "pxuhYQTpDDi3",
    "outputId": "6c6e20a3-8b03-4b20-8d34-be28050cc383"
   },
   "outputs": [
    {
     "data": {
      "text/plain": [
       "Paperback                5193\n",
       "Hardcover                 823\n",
       "Mass Market Paperback     155\n",
       "Sheet music                24\n",
       "Flexibound                 15\n",
       "Cards                       8\n",
       "Spiral-bound                4\n",
       "Tankobon Softcover          3\n",
       "Loose Leaf                  2\n",
       "Board book                  1\n",
       "(French)Paperback           1\n",
       "Plastic Comb                1\n",
       "Leather Bound               1\n",
       "Perfect Paperback           1\n",
       "(Kannada)Paperback          1\n",
       "(Spanish)Paperback          1\n",
       "(German)Paperback           1\n",
       "Library Binding             1\n",
       "Product Bundle              1\n",
       "Name: Edition type, dtype: int64"
      ]
     },
     "execution_count": 194,
     "metadata": {},
     "output_type": "execute_result"
    }
   ],
   "source": [
    "df_Train['Edition type'].value_counts()"
   ]
  },
  {
   "cell_type": "code",
   "execution_count": 195,
   "metadata": {
    "colab": {
     "base_uri": "https://localhost:8080/",
     "height": 599
    },
    "executionInfo": {
     "elapsed": 1149,
     "status": "ok",
     "timestamp": 1622484288275,
     "user": {
      "displayName": "SAURABH KUMAR",
      "photoUrl": "",
      "userId": "17886894809944321636"
     },
     "user_tz": -330
    },
    "id": "d_aQlyhYEfho",
    "outputId": "7bf0cedd-be48-4dbf-e1de-283de3d5d779"
   },
   "outputs": [
    {
     "data": {
      "text/plain": [
       "[]"
      ]
     },
     "execution_count": 195,
     "metadata": {},
     "output_type": "execute_result"
    },
    {
     "data": {
      "image/png": "[encoded data removed]",
      "text/plain": [
       "<Figure size 1296x648 with 1 Axes>"
      ]
     },
     "metadata": {
      "needs_background": "light"
     },
     "output_type": "display_data"
    }
   ],
   "source": [
    "plt.figure(figsize=(18,9))\n",
    "sns.barplot(x=df_Train['Edition type'],y=df_Train['Price'])\n",
    "plt.xticks(rotation =90)\n",
    "plt.plot()"
   ]
  },
  {
   "cell_type": "code",
   "execution_count": 196,
   "metadata": {
    "colab": {
     "base_uri": "https://localhost:8080/"
    },
    "executionInfo": {
     "elapsed": 50,
     "status": "ok",
     "timestamp": 1622484288276,
     "user": {
      "displayName": "SAURABH KUMAR",
      "photoUrl": "",
      "userId": "17886894809944321636"
     },
     "user_tz": -330
    },
    "id": "Onza9ezaRMeO",
    "outputId": "f3316da9-1cef-4325-d986-8f2c4d991118"
   },
   "outputs": [
    {
     "data": {
      "text/plain": [
       "6237"
      ]
     },
     "execution_count": 196,
     "metadata": {},
     "output_type": "execute_result"
    }
   ],
   "source": [
    "df_Train['Edition year'].isnull().count()"
   ]
  },
  {
   "cell_type": "code",
   "execution_count": 197,
   "metadata": {
    "colab": {
     "base_uri": "https://localhost:8080/",
     "height": 819
    },
    "executionInfo": {
     "elapsed": 47,
     "status": "ok",
     "timestamp": 1622484288277,
     "user": {
      "displayName": "SAURABH KUMAR",
      "photoUrl": "",
      "userId": "17886894809944321636"
     },
     "user_tz": -330
    },
    "id": "zQeCVHLuSKIB",
    "outputId": "93974e7c-d498-43af-c357-7bd64237c703"
   },
   "outputs": [
    {
     "data": {
      "text/html": [
       "<div>\n",
       "<style scoped>\n",
       "    .dataframe tbody tr th:only-of-type {\n",
       "        vertical-align: middle;\n",
       "    }\n",
       "\n",
       "    .dataframe tbody tr th {\n",
       "        vertical-align: top;\n",
       "    }\n",
       "\n",
       "    .dataframe thead th {\n",
       "        text-align: right;\n",
       "    }\n",
       "</style>\n",
       "<table border=\"1\" class=\"dataframe\">\n",
       "  <thead>\n",
       "    <tr style=\"text-align: right;\">\n",
       "      <th></th>\n",
       "      <th>Edition</th>\n",
       "      <th>Reviews</th>\n",
       "      <th>Ratings</th>\n",
       "      <th>BookCategory</th>\n",
       "      <th>Price</th>\n",
       "      <th>Edition type</th>\n",
       "      <th>Edition year</th>\n",
       "    </tr>\n",
       "  </thead>\n",
       "  <tbody>\n",
       "    <tr>\n",
       "      <th>169</th>\n",
       "      <td>Paperback,– Abridged, Import</td>\n",
       "      <td>5.0</td>\n",
       "      <td>2.0</td>\n",
       "      <td>Action &amp; Adventure</td>\n",
       "      <td>418.0</td>\n",
       "      <td>Paperback</td>\n",
       "      <td>Import</td>\n",
       "    </tr>\n",
       "    <tr>\n",
       "      <th>235</th>\n",
       "      <td>Plastic Comb,– DVD, NTSC</td>\n",
       "      <td>3.0</td>\n",
       "      <td>6.0</td>\n",
       "      <td>Arts, Film &amp; Photography</td>\n",
       "      <td>1453.0</td>\n",
       "      <td>Plastic Comb</td>\n",
       "      <td>NTSC</td>\n",
       "    </tr>\n",
       "    <tr>\n",
       "      <th>582</th>\n",
       "      <td>Paperback,– Illustrated, Import</td>\n",
       "      <td>4.0</td>\n",
       "      <td>7.0</td>\n",
       "      <td>Arts, Film &amp; Photography</td>\n",
       "      <td>415.0</td>\n",
       "      <td>Paperback</td>\n",
       "      <td>Import</td>\n",
       "    </tr>\n",
       "    <tr>\n",
       "      <th>972</th>\n",
       "      <td>Paperback,– Illustrated, Import</td>\n",
       "      <td>3.0</td>\n",
       "      <td>1.0</td>\n",
       "      <td>Comics &amp; Mangas</td>\n",
       "      <td>445.0</td>\n",
       "      <td>Paperback</td>\n",
       "      <td>Import</td>\n",
       "    </tr>\n",
       "    <tr>\n",
       "      <th>1233</th>\n",
       "      <td>Paperback,– Large Print, Import</td>\n",
       "      <td>5.0</td>\n",
       "      <td>1.0</td>\n",
       "      <td>Action &amp; Adventure</td>\n",
       "      <td>277.0</td>\n",
       "      <td>Paperback</td>\n",
       "      <td>Import</td>\n",
       "    </tr>\n",
       "    <tr>\n",
       "      <th>1558</th>\n",
       "      <td>Hardcover,– Import, Facsimile</td>\n",
       "      <td>5.0</td>\n",
       "      <td>1.0</td>\n",
       "      <td>Crime, Thriller &amp; Mystery</td>\n",
       "      <td>100.0</td>\n",
       "      <td>Hardcover</td>\n",
       "      <td>Facsimile</td>\n",
       "    </tr>\n",
       "    <tr>\n",
       "      <th>1605</th>\n",
       "      <td>Paperback,– Abridged, Audiobook, Box set</td>\n",
       "      <td>4.0</td>\n",
       "      <td>2.0</td>\n",
       "      <td>Language, Linguistics &amp; Writing</td>\n",
       "      <td>399.0</td>\n",
       "      <td>Paperback</td>\n",
       "      <td>set</td>\n",
       "    </tr>\n",
       "    <tr>\n",
       "      <th>1631</th>\n",
       "      <td>Paperback,– Large Print, Import</td>\n",
       "      <td>4.0</td>\n",
       "      <td>1.0</td>\n",
       "      <td>Sports</td>\n",
       "      <td>709.0</td>\n",
       "      <td>Paperback</td>\n",
       "      <td>Import</td>\n",
       "    </tr>\n",
       "    <tr>\n",
       "      <th>1643</th>\n",
       "      <td>Paperback,– Student Edition, Special Edition</td>\n",
       "      <td>3.0</td>\n",
       "      <td>5.0</td>\n",
       "      <td>Arts, Film &amp; Photography</td>\n",
       "      <td>220.0</td>\n",
       "      <td>Paperback</td>\n",
       "      <td>Edition</td>\n",
       "    </tr>\n",
       "    <tr>\n",
       "      <th>1769</th>\n",
       "      <td>Hardcover,– Abridged, Audiobook, Box set</td>\n",
       "      <td>5.0</td>\n",
       "      <td>1.0</td>\n",
       "      <td>Computing, Internet &amp; Digital Media</td>\n",
       "      <td>2248.0</td>\n",
       "      <td>Hardcover</td>\n",
       "      <td>set</td>\n",
       "    </tr>\n",
       "    <tr>\n",
       "      <th>2101</th>\n",
       "      <td>Hardcover,– Audiobook, Unabridged</td>\n",
       "      <td>4.0</td>\n",
       "      <td>2.0</td>\n",
       "      <td>Language, Linguistics &amp; Writing</td>\n",
       "      <td>798.0</td>\n",
       "      <td>Hardcover</td>\n",
       "      <td>Unabridged</td>\n",
       "    </tr>\n",
       "    <tr>\n",
       "      <th>2229</th>\n",
       "      <td>Paperback,– Abridged, Audiobook, Large Print</td>\n",
       "      <td>4.0</td>\n",
       "      <td>3.0</td>\n",
       "      <td>Biographies, Diaries &amp; True Accounts</td>\n",
       "      <td>188.0</td>\n",
       "      <td>Paperback</td>\n",
       "      <td>Print</td>\n",
       "    </tr>\n",
       "    <tr>\n",
       "      <th>2660</th>\n",
       "      <td>Paperback,– Abridged, Audiobook, Box set</td>\n",
       "      <td>4.0</td>\n",
       "      <td>2.0</td>\n",
       "      <td>Action &amp; Adventure</td>\n",
       "      <td>270.0</td>\n",
       "      <td>Paperback</td>\n",
       "      <td>set</td>\n",
       "    </tr>\n",
       "    <tr>\n",
       "      <th>2779</th>\n",
       "      <td>Paperback,– Illustrated, Import</td>\n",
       "      <td>5.0</td>\n",
       "      <td>4.0</td>\n",
       "      <td>Arts, Film &amp; Photography</td>\n",
       "      <td>805.0</td>\n",
       "      <td>Paperback</td>\n",
       "      <td>Import</td>\n",
       "    </tr>\n",
       "    <tr>\n",
       "      <th>3511</th>\n",
       "      <td>Paperback,– Abridged, Audiobook, Box set</td>\n",
       "      <td>5.0</td>\n",
       "      <td>3.0</td>\n",
       "      <td>Comics &amp; Mangas</td>\n",
       "      <td>1499.0</td>\n",
       "      <td>Paperback</td>\n",
       "      <td>set</td>\n",
       "    </tr>\n",
       "    <tr>\n",
       "      <th>3875</th>\n",
       "      <td>Hardcover,– Facsimile, Import</td>\n",
       "      <td>3.0</td>\n",
       "      <td>7.0</td>\n",
       "      <td>Crime, Thriller &amp; Mystery</td>\n",
       "      <td>896.0</td>\n",
       "      <td>Hardcover</td>\n",
       "      <td>Import</td>\n",
       "    </tr>\n",
       "    <tr>\n",
       "      <th>3960</th>\n",
       "      <td>Paperback,– Illustrated, Large Print, Audiobook</td>\n",
       "      <td>4.0</td>\n",
       "      <td>3.0</td>\n",
       "      <td>Biographies, Diaries &amp; True Accounts</td>\n",
       "      <td>123.0</td>\n",
       "      <td>Paperback</td>\n",
       "      <td>Audiobook</td>\n",
       "    </tr>\n",
       "    <tr>\n",
       "      <th>4036</th>\n",
       "      <td>Paperback,– Illustrated, Import</td>\n",
       "      <td>5.0</td>\n",
       "      <td>1.0</td>\n",
       "      <td>Sports</td>\n",
       "      <td>1826.0</td>\n",
       "      <td>Paperback</td>\n",
       "      <td>Import</td>\n",
       "    </tr>\n",
       "    <tr>\n",
       "      <th>4403</th>\n",
       "      <td>Hardcover,– Illustrated, Import</td>\n",
       "      <td>4.0</td>\n",
       "      <td>2.0</td>\n",
       "      <td>Arts, Film &amp; Photography</td>\n",
       "      <td>1542.0</td>\n",
       "      <td>Hardcover</td>\n",
       "      <td>Import</td>\n",
       "    </tr>\n",
       "    <tr>\n",
       "      <th>5117</th>\n",
       "      <td>Paperback,– Abridged, Audiobook, Box set</td>\n",
       "      <td>3.0</td>\n",
       "      <td>5.0</td>\n",
       "      <td>Biographies, Diaries &amp; True Accounts</td>\n",
       "      <td>180.0</td>\n",
       "      <td>Paperback</td>\n",
       "      <td>set</td>\n",
       "    </tr>\n",
       "    <tr>\n",
       "      <th>5860</th>\n",
       "      <td>Paperback,– Illustrated, Large Print</td>\n",
       "      <td>3.0</td>\n",
       "      <td>8.0</td>\n",
       "      <td>Language, Linguistics &amp; Writing</td>\n",
       "      <td>127.0</td>\n",
       "      <td>Paperback</td>\n",
       "      <td>Print</td>\n",
       "    </tr>\n",
       "  </tbody>\n",
       "</table>\n",
       "</div>"
      ],
      "text/plain": [
       "                                              Edition  Reviews  Ratings  \\\n",
       "169                      Paperback,– Abridged, Import      5.0      2.0   \n",
       "235                          Plastic Comb,– DVD, NTSC      3.0      6.0   \n",
       "582                   Paperback,– Illustrated, Import      4.0      7.0   \n",
       "972                   Paperback,– Illustrated, Import      3.0      1.0   \n",
       "1233                  Paperback,– Large Print, Import      5.0      1.0   \n",
       "1558                    Hardcover,– Import, Facsimile      5.0      1.0   \n",
       "1605         Paperback,– Abridged, Audiobook, Box set      4.0      2.0   \n",
       "1631                  Paperback,– Large Print, Import      4.0      1.0   \n",
       "1643     Paperback,– Student Edition, Special Edition      3.0      5.0   \n",
       "1769         Hardcover,– Abridged, Audiobook, Box set      5.0      1.0   \n",
       "2101                Hardcover,– Audiobook, Unabridged      4.0      2.0   \n",
       "2229     Paperback,– Abridged, Audiobook, Large Print      4.0      3.0   \n",
       "2660         Paperback,– Abridged, Audiobook, Box set      4.0      2.0   \n",
       "2779                  Paperback,– Illustrated, Import      5.0      4.0   \n",
       "3511         Paperback,– Abridged, Audiobook, Box set      5.0      3.0   \n",
       "3875                    Hardcover,– Facsimile, Import      3.0      7.0   \n",
       "3960  Paperback,– Illustrated, Large Print, Audiobook      4.0      3.0   \n",
       "4036                  Paperback,– Illustrated, Import      5.0      1.0   \n",
       "4403                  Hardcover,– Illustrated, Import      4.0      2.0   \n",
       "5117         Paperback,– Abridged, Audiobook, Box set      3.0      5.0   \n",
       "5860             Paperback,– Illustrated, Large Print      3.0      8.0   \n",
       "\n",
       "                              BookCategory   Price  Edition type Edition year  \n",
       "169                     Action & Adventure   418.0     Paperback       Import  \n",
       "235               Arts, Film & Photography  1453.0  Plastic Comb         NTSC  \n",
       "582               Arts, Film & Photography   415.0     Paperback       Import  \n",
       "972                        Comics & Mangas   445.0     Paperback       Import  \n",
       "1233                    Action & Adventure   277.0     Paperback       Import  \n",
       "1558             Crime, Thriller & Mystery   100.0     Hardcover    Facsimile  \n",
       "1605       Language, Linguistics & Writing   399.0     Paperback          set  \n",
       "1631                                Sports   709.0     Paperback       Import  \n",
       "1643              Arts, Film & Photography   220.0     Paperback      Edition  \n",
       "1769   Computing, Internet & Digital Media  2248.0     Hardcover          set  \n",
       "2101       Language, Linguistics & Writing   798.0     Hardcover   Unabridged  \n",
       "2229  Biographies, Diaries & True Accounts   188.0     Paperback        Print  \n",
       "2660                    Action & Adventure   270.0     Paperback          set  \n",
       "2779              Arts, Film & Photography   805.0     Paperback       Import  \n",
       "3511                       Comics & Mangas  1499.0     Paperback          set  \n",
       "3875             Crime, Thriller & Mystery   896.0     Hardcover       Import  \n",
       "3960  Biographies, Diaries & True Accounts   123.0     Paperback    Audiobook  \n",
       "4036                                Sports  1826.0     Paperback       Import  \n",
       "4403              Arts, Film & Photography  1542.0     Hardcover       Import  \n",
       "5117  Biographies, Diaries & True Accounts   180.0     Paperback          set  \n",
       "5860       Language, Linguistics & Writing   127.0     Paperback        Print  "
      ]
     },
     "execution_count": 197,
     "metadata": {},
     "output_type": "execute_result"
    }
   ],
   "source": [
    "x=df_Train[df_Train['Edition year'].apply(lambda x :str(x).isalpha())]\n",
    "x"
   ]
  },
  {
   "cell_type": "code",
   "execution_count": 198,
   "metadata": {
    "colab": {
     "base_uri": "https://localhost:8080/"
    },
    "executionInfo": {
     "elapsed": 45,
     "status": "ok",
     "timestamp": 1622484288277,
     "user": {
      "displayName": "SAURABH KUMAR",
      "photoUrl": "",
      "userId": "17886894809944321636"
     },
     "user_tz": -330
    },
    "id": "NrUpDWS2UG5c",
    "outputId": "70b6ca7d-67bb-4584-ba39-75c3d41210fa"
   },
   "outputs": [
    {
     "data": {
      "text/plain": [
       "Edition         21\n",
       "Reviews         21\n",
       "Ratings         21\n",
       "BookCategory    21\n",
       "Price           21\n",
       "Edition type    21\n",
       "Edition year    21\n",
       "dtype: int64"
      ]
     },
     "execution_count": 198,
     "metadata": {},
     "output_type": "execute_result"
    }
   ],
   "source": [
    "x.count()"
   ]
  },
  {
   "cell_type": "code",
   "execution_count": null,
   "metadata": {
    "colab": {
     "base_uri": "https://localhost:8080/",
     "height": 328
    },
    "executionInfo": {
     "elapsed": 41,
     "status": "ok",
     "timestamp": 1622484288278,
     "user": {
      "displayName": "SAURABH KUMAR",
      "photoUrl": "",
      "userId": "17886894809944321636"
     },
     "user_tz": -330
    },
    "id": "A3jHAZEqUO2Q",
    "outputId": "77fd886b-c87d-4a3f-d55a-7ad78950b61e"
   },
   "outputs": [],
   "source": []
  },
  {
   "cell_type": "code",
   "execution_count": 199,
   "metadata": {
    "executionInfo": {
     "elapsed": 39,
     "status": "ok",
     "timestamp": 1622484288278,
     "user": {
      "displayName": "SAURABH KUMAR",
      "photoUrl": "",
      "userId": "17886894809944321636"
     },
     "user_tz": -330
    },
    "id": "-8LS37_lU47k"
   },
   "outputs": [],
   "source": [
    "df_Train = df_Train[df_Train['Edition year'].apply(lambda x: str(x).isdigit())]\n",
    "df_Train['Edition year'] = df_Train['Edition year'].astype('int64')"
   ]
  },
  {
   "cell_type": "code",
   "execution_count": 200,
   "metadata": {
    "colab": {
     "base_uri": "https://localhost:8080/"
    },
    "executionInfo": {
     "elapsed": 39,
     "status": "ok",
     "timestamp": 1622484288279,
     "user": {
      "displayName": "SAURABH KUMAR",
      "photoUrl": "",
      "userId": "17886894809944321636"
     },
     "user_tz": -330
    },
    "id": "cKFMxNaji414",
    "outputId": "40a26962-54c3-4795-ec8c-da6f81859aee"
   },
   "outputs": [
    {
     "data": {
      "text/plain": [
       "0       2016\n",
       "1       2012\n",
       "2       1982\n",
       "3       2017\n",
       "4       2006\n",
       "        ... \n",
       "6232    2018\n",
       "6233    2016\n",
       "6234    2006\n",
       "6235    2015\n",
       "6236    2016\n",
       "Name: Edition year, Length: 6216, dtype: int64"
      ]
     },
     "execution_count": 200,
     "metadata": {},
     "output_type": "execute_result"
    }
   ],
   "source": [
    "df_Train['Edition year']"
   ]
  },
  {
   "cell_type": "code",
   "execution_count": 201,
   "metadata": {
    "colab": {
     "base_uri": "https://localhost:8080/"
    },
    "executionInfo": {
     "elapsed": 35,
     "status": "ok",
     "timestamp": 1622484288280,
     "user": {
      "displayName": "SAURABH KUMAR",
      "photoUrl": "",
      "userId": "17886894809944321636"
     },
     "user_tz": -330
    },
    "id": "Gg-4Abm9avgR",
    "outputId": "2431effc-6b21-4aaa-ba4c-67ac1a4af6e5"
   },
   "outputs": [
    {
     "data": {
      "text/plain": [
       "0       1986\n",
       "1       2018\n",
       "2       2011\n",
       "3       2016\n",
       "4       2011\n",
       "        ... \n",
       "1555    2011\n",
       "1556    2013\n",
       "1557    2011\n",
       "1558    2009\n",
       "1559    2016\n",
       "Name: Edition year, Length: 1560, dtype: object"
      ]
     },
     "execution_count": 201,
     "metadata": {},
     "output_type": "execute_result"
    }
   ],
   "source": [
    "df_Test['Edition year']"
   ]
  },
  {
   "cell_type": "code",
   "execution_count": 202,
   "metadata": {
    "colab": {
     "base_uri": "https://localhost:8080/",
     "height": 470
    },
    "executionInfo": {
     "elapsed": 31,
     "status": "ok",
     "timestamp": 1622484288280,
     "user": {
      "displayName": "SAURABH KUMAR",
      "photoUrl": "",
      "userId": "17886894809944321636"
     },
     "user_tz": -330
    },
    "id": "z0v42koMqxQ5",
    "outputId": "9ee3cc13-671b-462f-c366-6cac3a0f9cb5"
   },
   "outputs": [
    {
     "data": {
      "text/html": [
       "<div>\n",
       "<style scoped>\n",
       "    .dataframe tbody tr th:only-of-type {\n",
       "        vertical-align: middle;\n",
       "    }\n",
       "\n",
       "    .dataframe tbody tr th {\n",
       "        vertical-align: top;\n",
       "    }\n",
       "\n",
       "    .dataframe thead th {\n",
       "        text-align: right;\n",
       "    }\n",
       "</style>\n",
       "<table border=\"1\" class=\"dataframe\">\n",
       "  <thead>\n",
       "    <tr style=\"text-align: right;\">\n",
       "      <th></th>\n",
       "      <th>Edition</th>\n",
       "      <th>Reviews</th>\n",
       "      <th>Ratings</th>\n",
       "      <th>BookCategory</th>\n",
       "      <th>Edition type</th>\n",
       "      <th>Edition year</th>\n",
       "    </tr>\n",
       "  </thead>\n",
       "  <tbody>\n",
       "    <tr>\n",
       "      <th>0</th>\n",
       "      <td>Mass Market Paperback,– 1 Oct 1986</td>\n",
       "      <td>4.0</td>\n",
       "      <td>9.0</td>\n",
       "      <td>Crime, Thriller &amp; Mystery</td>\n",
       "      <td>Mass Market Paperback</td>\n",
       "      <td>1986</td>\n",
       "    </tr>\n",
       "    <tr>\n",
       "      <th>1</th>\n",
       "      <td>Paperback,– Import, 26 Apr 2018</td>\n",
       "      <td>5.0</td>\n",
       "      <td>1.0</td>\n",
       "      <td>Computing, Internet &amp; Digital Media</td>\n",
       "      <td>Paperback</td>\n",
       "      <td>2018</td>\n",
       "    </tr>\n",
       "    <tr>\n",
       "      <th>2</th>\n",
       "      <td>Paperback,– 17 Mar 2011</td>\n",
       "      <td>5.0</td>\n",
       "      <td>4.0</td>\n",
       "      <td>Romance</td>\n",
       "      <td>Paperback</td>\n",
       "      <td>2011</td>\n",
       "    </tr>\n",
       "    <tr>\n",
       "      <th>3</th>\n",
       "      <td>Paperback,– 2016</td>\n",
       "      <td>4.0</td>\n",
       "      <td>1.0</td>\n",
       "      <td>Computing, Internet &amp; Digital Media</td>\n",
       "      <td>Paperback</td>\n",
       "      <td>2016</td>\n",
       "    </tr>\n",
       "    <tr>\n",
       "      <th>4</th>\n",
       "      <td>Paperback,– 26 Dec 2011</td>\n",
       "      <td>4.0</td>\n",
       "      <td>9.0</td>\n",
       "      <td>Language, Linguistics &amp; Writing</td>\n",
       "      <td>Paperback</td>\n",
       "      <td>2011</td>\n",
       "    </tr>\n",
       "    <tr>\n",
       "      <th>...</th>\n",
       "      <td>...</td>\n",
       "      <td>...</td>\n",
       "      <td>...</td>\n",
       "      <td>...</td>\n",
       "      <td>...</td>\n",
       "      <td>...</td>\n",
       "    </tr>\n",
       "    <tr>\n",
       "      <th>1555</th>\n",
       "      <td>Paperback,– 14 Apr 2011</td>\n",
       "      <td>5.0</td>\n",
       "      <td>4.0</td>\n",
       "      <td>Computing, Internet &amp; Digital Media</td>\n",
       "      <td>Paperback</td>\n",
       "      <td>2011</td>\n",
       "    </tr>\n",
       "    <tr>\n",
       "      <th>1556</th>\n",
       "      <td>Paperback,– 8 May 2013</td>\n",
       "      <td>3.0</td>\n",
       "      <td>1.0</td>\n",
       "      <td>Biographies, Diaries &amp; True Accounts</td>\n",
       "      <td>Paperback</td>\n",
       "      <td>2013</td>\n",
       "    </tr>\n",
       "    <tr>\n",
       "      <th>1557</th>\n",
       "      <td>Paperback,– 6 Sep 2011</td>\n",
       "      <td>4.0</td>\n",
       "      <td>5.0</td>\n",
       "      <td>Humour</td>\n",
       "      <td>Paperback</td>\n",
       "      <td>2011</td>\n",
       "    </tr>\n",
       "    <tr>\n",
       "      <th>1558</th>\n",
       "      <td>Paperback,– 22 Sep 2009</td>\n",
       "      <td>3.0</td>\n",
       "      <td>3.0</td>\n",
       "      <td>Biographies, Diaries &amp; True Accounts</td>\n",
       "      <td>Paperback</td>\n",
       "      <td>2009</td>\n",
       "    </tr>\n",
       "    <tr>\n",
       "      <th>1559</th>\n",
       "      <td>Paperback,– 16 Sep 2016</td>\n",
       "      <td>4.0</td>\n",
       "      <td>2.0</td>\n",
       "      <td>Language, Linguistics &amp; Writing</td>\n",
       "      <td>Paperback</td>\n",
       "      <td>2016</td>\n",
       "    </tr>\n",
       "  </tbody>\n",
       "</table>\n",
       "<p>1560 rows × 6 columns</p>\n",
       "</div>"
      ],
      "text/plain": [
       "                                 Edition  Reviews  Ratings  \\\n",
       "0     Mass Market Paperback,– 1 Oct 1986      4.0      9.0   \n",
       "1        Paperback,– Import, 26 Apr 2018      5.0      1.0   \n",
       "2                Paperback,– 17 Mar 2011      5.0      4.0   \n",
       "3                       Paperback,– 2016      4.0      1.0   \n",
       "4                Paperback,– 26 Dec 2011      4.0      9.0   \n",
       "...                                  ...      ...      ...   \n",
       "1555             Paperback,– 14 Apr 2011      5.0      4.0   \n",
       "1556              Paperback,– 8 May 2013      3.0      1.0   \n",
       "1557              Paperback,– 6 Sep 2011      4.0      5.0   \n",
       "1558             Paperback,– 22 Sep 2009      3.0      3.0   \n",
       "1559             Paperback,– 16 Sep 2016      4.0      2.0   \n",
       "\n",
       "                              BookCategory           Edition type Edition year  \n",
       "0                Crime, Thriller & Mystery  Mass Market Paperback         1986  \n",
       "1      Computing, Internet & Digital Media              Paperback         2018  \n",
       "2                                  Romance              Paperback         2011  \n",
       "3      Computing, Internet & Digital Media              Paperback         2016  \n",
       "4          Language, Linguistics & Writing              Paperback         2011  \n",
       "...                                    ...                    ...          ...  \n",
       "1555   Computing, Internet & Digital Media              Paperback         2011  \n",
       "1556  Biographies, Diaries & True Accounts              Paperback         2013  \n",
       "1557                                Humour              Paperback         2011  \n",
       "1558  Biographies, Diaries & True Accounts              Paperback         2009  \n",
       "1559       Language, Linguistics & Writing              Paperback         2016  \n",
       "\n",
       "[1560 rows x 6 columns]"
      ]
     },
     "execution_count": 202,
     "metadata": {},
     "output_type": "execute_result"
    }
   ],
   "source": [
    "df_Test"
   ]
  },
  {
   "cell_type": "code",
   "execution_count": null,
   "metadata": {
    "colab": {
     "base_uri": "https://localhost:8080/",
     "height": 328
    },
    "executionInfo": {
     "elapsed": 30,
     "status": "ok",
     "timestamp": 1622484288281,
     "user": {
      "displayName": "SAURABH KUMAR",
      "photoUrl": "",
      "userId": "17886894809944321636"
     },
     "user_tz": -330
    },
    "id": "fE-66y_kq2wi",
    "outputId": "ebebf6e7-6f62-434d-e8e0-b3fcebf14d3a"
   },
   "outputs": [],
   "source": []
  },
  {
   "cell_type": "code",
   "execution_count": null,
   "metadata": {
    "colab": {
     "base_uri": "https://localhost:8080/",
     "height": 49
    },
    "executionInfo": {
     "elapsed": 29,
     "status": "ok",
     "timestamp": 1622484288281,
     "user": {
      "displayName": "SAURABH KUMAR",
      "photoUrl": "",
      "userId": "17886894809944321636"
     },
     "user_tz": -330
    },
    "id": "P66AnTQCrrcW",
    "outputId": "6de91e4b-e27c-459c-8409-a997a5bfc2da"
   },
   "outputs": [],
   "source": []
  },
  {
   "cell_type": "code",
   "execution_count": 203,
   "metadata": {
    "executionInfo": {
     "elapsed": 80,
     "status": "ok",
     "timestamp": 1622484288837,
     "user": {
      "displayName": "SAURABH KUMAR",
      "photoUrl": "",
      "userId": "17886894809944321636"
     },
     "user_tz": -330
    },
    "id": "8VHtMyns2wvc"
   },
   "outputs": [],
   "source": [
    "df_Test['Edition year']=df_Test['Edition year'].astype(str)"
   ]
  },
  {
   "cell_type": "code",
   "execution_count": 204,
   "metadata": {
    "executionInfo": {
     "elapsed": 83,
     "status": "ok",
     "timestamp": 1622484288841,
     "user": {
      "displayName": "SAURABH KUMAR",
      "photoUrl": "",
      "userId": "17886894809944321636"
     },
     "user_tz": -330
    },
    "id": "t8maLWQ3J4Hv"
   },
   "outputs": [],
   "source": [
    "df_Test['Edition year']=df_Test['Edition year'].replace(['Import','set','Print','Illustrated'],['1990','2004','1986','2014'])"
   ]
  },
  {
   "cell_type": "code",
   "execution_count": null,
   "metadata": {
    "colab": {
     "base_uri": "https://localhost:8080/",
     "height": 49
    },
    "executionInfo": {
     "elapsed": 85,
     "status": "ok",
     "timestamp": 1622484288844,
     "user": {
      "displayName": "SAURABH KUMAR",
      "photoUrl": "",
      "userId": "17886894809944321636"
     },
     "user_tz": -330
    },
    "id": "dQSS3GOXLZjZ",
    "outputId": "31a39636-6aac-447a-a06e-c624cf4e52b0"
   },
   "outputs": [],
   "source": []
  },
  {
   "cell_type": "code",
   "execution_count": 205,
   "metadata": {
    "executionInfo": {
     "elapsed": 83,
     "status": "ok",
     "timestamp": 1622484288845,
     "user": {
      "displayName": "SAURABH KUMAR",
      "photoUrl": "",
      "userId": "17886894809944321636"
     },
     "user_tz": -330
    },
    "id": "PiXiXr_xNu4a"
   },
   "outputs": [],
   "source": [
    "df_Test['Edition year']=df_Test['Edition year'].astype('int64')"
   ]
  },
  {
   "cell_type": "code",
   "execution_count": 206,
   "metadata": {
    "colab": {
     "base_uri": "https://localhost:8080/"
    },
    "executionInfo": {
     "elapsed": 85,
     "status": "ok",
     "timestamp": 1622484288847,
     "user": {
      "displayName": "SAURABH KUMAR",
      "photoUrl": "",
      "userId": "17886894809944321636"
     },
     "user_tz": -330
    },
    "id": "43s0DRwyOAXb",
    "outputId": "8a27cb84-8728-4ba7-98ff-a44635fe4188"
   },
   "outputs": [
    {
     "data": {
      "text/plain": [
       "dtype('int64')"
      ]
     },
     "execution_count": 206,
     "metadata": {},
     "output_type": "execute_result"
    }
   ],
   "source": [
    "df_Test['Edition year'].dtype"
   ]
  },
  {
   "cell_type": "code",
   "execution_count": 207,
   "metadata": {
    "colab": {
     "base_uri": "https://localhost:8080/"
    },
    "executionInfo": {
     "elapsed": 69,
     "status": "ok",
     "timestamp": 1622484288849,
     "user": {
      "displayName": "SAURABH KUMAR",
      "photoUrl": "",
      "userId": "17886894809944321636"
     },
     "user_tz": -330
    },
    "id": "IjLZ6amPOJAj",
    "outputId": "821d04e8-cade-4a61-aca3-73edf76f4b65"
   },
   "outputs": [
    {
     "data": {
      "text/plain": [
       "Action & Adventure                      815\n",
       "Crime, Thriller & Mystery               721\n",
       "Biographies, Diaries & True Accounts    593\n",
       "Language, Linguistics & Writing         591\n",
       "Comics & Mangas                         581\n",
       "Romance                                 560\n",
       "Humour                                  540\n",
       "Arts, Film & Photography                512\n",
       "Computing, Internet & Digital Media     509\n",
       "Sports                                  469\n",
       "Politics                                325\n",
       "Name: BookCategory, dtype: int64"
      ]
     },
     "execution_count": 207,
     "metadata": {},
     "output_type": "execute_result"
    }
   ],
   "source": [
    "df_Train['BookCategory'].value_counts()"
   ]
  },
  {
   "cell_type": "code",
   "execution_count": 208,
   "metadata": {
    "colab": {
     "base_uri": "https://localhost:8080/",
     "height": 662
    },
    "executionInfo": {
     "elapsed": 903,
     "status": "ok",
     "timestamp": 1622484289706,
     "user": {
      "displayName": "SAURABH KUMAR",
      "photoUrl": "",
      "userId": "17886894809944321636"
     },
     "user_tz": -330
    },
    "id": "QFaqLEATO7kN",
    "outputId": "6221ca8a-3a1b-414b-a085-c38b67590074"
   },
   "outputs": [
    {
     "data": {
      "text/plain": [
       "[]"
      ]
     },
     "execution_count": 208,
     "metadata": {},
     "output_type": "execute_result"
    },
    {
     "data": {
      "image/png": "[encoded data removed]",
      "text/plain": [
       "<Figure size 1296x648 with 1 Axes>"
      ]
     },
     "metadata": {
      "needs_background": "light"
     },
     "output_type": "display_data"
    }
   ],
   "source": [
    "plt.figure(figsize=(18,9))\n",
    "sns.barplot(x=df_Train['BookCategory'],y=df_Train['Price'])\n",
    "plt.xticks(rotation=90)\n",
    "plt.plot()"
   ]
  },
  {
   "cell_type": "code",
   "execution_count": 209,
   "metadata": {
    "colab": {
     "base_uri": "https://localhost:8080/"
    },
    "executionInfo": {
     "elapsed": 62,
     "status": "ok",
     "timestamp": 1622484289710,
     "user": {
      "displayName": "SAURABH KUMAR",
      "photoUrl": "",
      "userId": "17886894809944321636"
     },
     "user_tz": -330
    },
    "id": "DHJDtyk2Podp",
    "outputId": "92f20231-ec57-4175-a6f2-b1c6adbd5a2f"
   },
   "outputs": [
    {
     "data": {
      "text/plain": [
       "Paperback                5178\n",
       "Hardcover                 818\n",
       "Mass Market Paperback     155\n",
       "Sheet music                24\n",
       "Flexibound                 15\n",
       "Cards                       8\n",
       "Spiral-bound                4\n",
       "Tankobon Softcover          3\n",
       "Loose Leaf                  2\n",
       "(Spanish)Paperback          1\n",
       "(Kannada)Paperback          1\n",
       "Perfect Paperback           1\n",
       "Product Bundle              1\n",
       "Library Binding             1\n",
       "(German)Paperback           1\n",
       "(French)Paperback           1\n",
       "Board book                  1\n",
       "Leather Bound               1\n",
       "Name: Edition type, dtype: int64"
      ]
     },
     "execution_count": 209,
     "metadata": {},
     "output_type": "execute_result"
    }
   ],
   "source": [
    "df_Train['Edition type'].value_counts()"
   ]
  },
  {
   "cell_type": "code",
   "execution_count": 210,
   "metadata": {
    "colab": {
     "base_uri": "https://localhost:8080/"
    },
    "executionInfo": {
     "elapsed": 56,
     "status": "ok",
     "timestamp": 1622484289711,
     "user": {
      "displayName": "SAURABH KUMAR",
      "photoUrl": "",
      "userId": "17886894809944321636"
     },
     "user_tz": -330
    },
    "id": "waQMtu9uQRhG",
    "outputId": "fac523e6-73a7-4a5f-a1df-7f0b6f277bc9"
   },
   "outputs": [
    {
     "data": {
      "text/plain": [
       "Paperback                1265\n",
       "Hardcover                 233\n",
       "Mass Market Paperback      45\n",
       "Sheet music                 8\n",
       "Flexibound                  4\n",
       "Spiral-bound                2\n",
       "Cards                       1\n",
       "(Chinese)Paperback          1\n",
       "Loose Leaf                  1\n",
       "Name: Edition type, dtype: int64"
      ]
     },
     "execution_count": 210,
     "metadata": {},
     "output_type": "execute_result"
    }
   ],
   "source": [
    "df_Test['Edition type'].value_counts()"
   ]
  },
  {
   "cell_type": "code",
   "execution_count": 211,
   "metadata": {
    "executionInfo": {
     "elapsed": 53,
     "status": "ok",
     "timestamp": 1622484289712,
     "user": {
      "displayName": "SAURABH KUMAR",
      "photoUrl": "",
      "userId": "17886894809944321636"
     },
     "user_tz": -330
    },
    "id": "KLj_vi0pQxuI"
   },
   "outputs": [],
   "source": [
    "df_Train['Edition type']=df_Train['Edition type'].replace(['Tankobon Softcover','Leather Bound','Library Binding','Board book','Product Bundle','Spiral-bound'],'Bound')"
   ]
  },
  {
   "cell_type": "code",
   "execution_count": 212,
   "metadata": {
    "executionInfo": {
     "elapsed": 53,
     "status": "ok",
     "timestamp": 1622484289713,
     "user": {
      "displayName": "SAURABH KUMAR",
      "photoUrl": "",
      "userId": "17886894809944321636"
     },
     "user_tz": -330
    },
    "id": "wABrgBmQTWhG"
   },
   "outputs": [],
   "source": [
    "df_Train['Edition type']=df_Train['Edition type'].replace(['(French)Paperback','Perfect Paperback','(Kannada)Paperback','(German)Paperback','(Spanish)Paperback',],'Paperback')"
   ]
  },
  {
   "cell_type": "code",
   "execution_count": 213,
   "metadata": {
    "executionInfo": {
     "elapsed": 53,
     "status": "ok",
     "timestamp": 1622484289714,
     "user": {
      "displayName": "SAURABH KUMAR",
      "photoUrl": "",
      "userId": "17886894809944321636"
     },
     "user_tz": -330
    },
    "id": "HjIyYnotUfmc"
   },
   "outputs": [],
   "source": [
    "df_Test['Edition type']=df_Test['Edition type'].replace(['(Chinese)Paperback'],'Paperback')"
   ]
  },
  {
   "cell_type": "code",
   "execution_count": 214,
   "metadata": {
    "executionInfo": {
     "elapsed": 58,
     "status": "ok",
     "timestamp": 1622484289715,
     "user": {
      "displayName": "SAURABH KUMAR",
      "photoUrl": "",
      "userId": "17886894809944321636"
     },
     "user_tz": -330
    },
    "id": "fP-YnuVpVv7g"
   },
   "outputs": [],
   "source": [
    "df_Test['Edition type']=df_Test['Edition type'].replace(['Spiral-bound'],'Bound')"
   ]
  },
  {
   "cell_type": "code",
   "execution_count": 215,
   "metadata": {
    "colab": {
     "base_uri": "https://localhost:8080/"
    },
    "executionInfo": {
     "elapsed": 59,
     "status": "ok",
     "timestamp": 1622484289721,
     "user": {
      "displayName": "SAURABH KUMAR",
      "photoUrl": "",
      "userId": "17886894809944321636"
     },
     "user_tz": -330
    },
    "id": "O3EQanMnVTD5",
    "outputId": "014d3343-d001-469d-ff89-b31cbfa7f8c9"
   },
   "outputs": [
    {
     "data": {
      "text/plain": [
       "Paperback                5183\n",
       "Hardcover                 818\n",
       "Mass Market Paperback     155\n",
       "Sheet music                24\n",
       "Flexibound                 15\n",
       "Bound                      11\n",
       "Cards                       8\n",
       "Loose Leaf                  2\n",
       "Name: Edition type, dtype: int64"
      ]
     },
     "execution_count": 215,
     "metadata": {},
     "output_type": "execute_result"
    }
   ],
   "source": [
    "df_Train['Edition type'].value_counts()"
   ]
  },
  {
   "cell_type": "code",
   "execution_count": 216,
   "metadata": {
    "colab": {
     "base_uri": "https://localhost:8080/"
    },
    "executionInfo": {
     "elapsed": 58,
     "status": "ok",
     "timestamp": 1622484289724,
     "user": {
      "displayName": "SAURABH KUMAR",
      "photoUrl": "",
      "userId": "17886894809944321636"
     },
     "user_tz": -330
    },
    "id": "u7teExx5VaM4",
    "outputId": "6a46cd51-12a4-4a01-db03-ac5bf54caf9b"
   },
   "outputs": [
    {
     "data": {
      "text/plain": [
       "Paperback                1266\n",
       "Hardcover                 233\n",
       "Mass Market Paperback      45\n",
       "Sheet music                 8\n",
       "Flexibound                  4\n",
       "Bound                       2\n",
       "Cards                       1\n",
       "Loose Leaf                  1\n",
       "Name: Edition type, dtype: int64"
      ]
     },
     "execution_count": 216,
     "metadata": {},
     "output_type": "execute_result"
    }
   ],
   "source": [
    "df_Test['Edition type'].value_counts()"
   ]
  },
  {
   "cell_type": "code",
   "execution_count": 217,
   "metadata": {
    "executionInfo": {
     "elapsed": 53,
     "status": "ok",
     "timestamp": 1622484289725,
     "user": {
      "displayName": "SAURABH KUMAR",
      "photoUrl": "",
      "userId": "17886894809944321636"
     },
     "user_tz": -330
    },
    "id": "pa_QpbhFVlMY"
   },
   "outputs": [],
   "source": [
    "from sklearn import preprocessing\n",
    "label_encoder =preprocessing.LabelEncoder()\n",
    "df_Train['BookCategory']=label_encoder.fit_transform(df_Train['BookCategory'])\n",
    "df_Train['Edition type']=label_encoder.fit_transform(df_Train['Edition type'])\n",
    "\n",
    "df_Test['BookCategory']=label_encoder.fit_transform(df_Test['BookCategory'])\n",
    "df_Test['Edition type']=label_encoder.fit_transform(df_Test['Edition type'])\n"
   ]
  },
  {
   "cell_type": "code",
   "execution_count": 218,
   "metadata": {
    "colab": {
     "base_uri": "https://localhost:8080/",
     "height": 419
    },
    "executionInfo": {
     "elapsed": 57,
     "status": "ok",
     "timestamp": 1622484289730,
     "user": {
      "displayName": "SAURABH KUMAR",
      "photoUrl": "",
      "userId": "17886894809944321636"
     },
     "user_tz": -330
    },
    "id": "4CaJMMJ1gJ0K",
    "outputId": "8ba37217-e7e0-42c1-d7d1-14aea3064753"
   },
   "outputs": [
    {
     "data": {
      "text/html": [
       "<div>\n",
       "<style scoped>\n",
       "    .dataframe tbody tr th:only-of-type {\n",
       "        vertical-align: middle;\n",
       "    }\n",
       "\n",
       "    .dataframe tbody tr th {\n",
       "        vertical-align: top;\n",
       "    }\n",
       "\n",
       "    .dataframe thead th {\n",
       "        text-align: right;\n",
       "    }\n",
       "</style>\n",
       "<table border=\"1\" class=\"dataframe\">\n",
       "  <thead>\n",
       "    <tr style=\"text-align: right;\">\n",
       "      <th></th>\n",
       "      <th>Edition</th>\n",
       "      <th>Reviews</th>\n",
       "      <th>Ratings</th>\n",
       "      <th>BookCategory</th>\n",
       "      <th>Price</th>\n",
       "      <th>Edition type</th>\n",
       "      <th>Edition year</th>\n",
       "    </tr>\n",
       "  </thead>\n",
       "  <tbody>\n",
       "    <tr>\n",
       "      <th>0</th>\n",
       "      <td>Paperback,– 10 Mar 2016</td>\n",
       "      <td>4.0</td>\n",
       "      <td>8.0</td>\n",
       "      <td>0</td>\n",
       "      <td>220.00</td>\n",
       "      <td>6</td>\n",
       "      <td>2016</td>\n",
       "    </tr>\n",
       "    <tr>\n",
       "      <th>1</th>\n",
       "      <td>Paperback,– 7 Nov 2012</td>\n",
       "      <td>3.0</td>\n",
       "      <td>1.0</td>\n",
       "      <td>2</td>\n",
       "      <td>202.93</td>\n",
       "      <td>6</td>\n",
       "      <td>2012</td>\n",
       "    </tr>\n",
       "    <tr>\n",
       "      <th>2</th>\n",
       "      <td>Paperback,– 25 Feb 1982</td>\n",
       "      <td>4.0</td>\n",
       "      <td>6.0</td>\n",
       "      <td>6</td>\n",
       "      <td>299.00</td>\n",
       "      <td>6</td>\n",
       "      <td>1982</td>\n",
       "    </tr>\n",
       "    <tr>\n",
       "      <th>3</th>\n",
       "      <td>Paperback,– 5 Oct 2017</td>\n",
       "      <td>4.0</td>\n",
       "      <td>1.0</td>\n",
       "      <td>5</td>\n",
       "      <td>180.00</td>\n",
       "      <td>6</td>\n",
       "      <td>2017</td>\n",
       "    </tr>\n",
       "    <tr>\n",
       "      <th>4</th>\n",
       "      <td>Hardcover,– 10 Oct 2006</td>\n",
       "      <td>5.0</td>\n",
       "      <td>1.0</td>\n",
       "      <td>1</td>\n",
       "      <td>965.62</td>\n",
       "      <td>3</td>\n",
       "      <td>2006</td>\n",
       "    </tr>\n",
       "    <tr>\n",
       "      <th>...</th>\n",
       "      <td>...</td>\n",
       "      <td>...</td>\n",
       "      <td>...</td>\n",
       "      <td>...</td>\n",
       "      <td>...</td>\n",
       "      <td>...</td>\n",
       "      <td>...</td>\n",
       "    </tr>\n",
       "    <tr>\n",
       "      <th>6232</th>\n",
       "      <td>Paperback,– 8 Aug 2018</td>\n",
       "      <td>5.0</td>\n",
       "      <td>2.0</td>\n",
       "      <td>6</td>\n",
       "      <td>322.00</td>\n",
       "      <td>6</td>\n",
       "      <td>2018</td>\n",
       "    </tr>\n",
       "    <tr>\n",
       "      <th>6233</th>\n",
       "      <td>Paperback,– 21 Nov 2016</td>\n",
       "      <td>3.0</td>\n",
       "      <td>9.0</td>\n",
       "      <td>5</td>\n",
       "      <td>421.00</td>\n",
       "      <td>6</td>\n",
       "      <td>2016</td>\n",
       "    </tr>\n",
       "    <tr>\n",
       "      <th>6234</th>\n",
       "      <td>Paperback,– 8 Jun 2006</td>\n",
       "      <td>3.0</td>\n",
       "      <td>3.0</td>\n",
       "      <td>9</td>\n",
       "      <td>399.00</td>\n",
       "      <td>6</td>\n",
       "      <td>2006</td>\n",
       "    </tr>\n",
       "    <tr>\n",
       "      <th>6235</th>\n",
       "      <td>Paperback,– 15 Jan 2015</td>\n",
       "      <td>3.0</td>\n",
       "      <td>4.0</td>\n",
       "      <td>0</td>\n",
       "      <td>319.00</td>\n",
       "      <td>6</td>\n",
       "      <td>2015</td>\n",
       "    </tr>\n",
       "    <tr>\n",
       "      <th>6236</th>\n",
       "      <td>Paperback,– 21 Dec 2016</td>\n",
       "      <td>3.0</td>\n",
       "      <td>2.0</td>\n",
       "      <td>0</td>\n",
       "      <td>452.00</td>\n",
       "      <td>6</td>\n",
       "      <td>2016</td>\n",
       "    </tr>\n",
       "  </tbody>\n",
       "</table>\n",
       "<p>6216 rows × 7 columns</p>\n",
       "</div>"
      ],
      "text/plain": [
       "                      Edition  Reviews  Ratings  BookCategory   Price  \\\n",
       "0     Paperback,– 10 Mar 2016      4.0      8.0             0  220.00   \n",
       "1      Paperback,– 7 Nov 2012      3.0      1.0             2  202.93   \n",
       "2     Paperback,– 25 Feb 1982      4.0      6.0             6  299.00   \n",
       "3      Paperback,– 5 Oct 2017      4.0      1.0             5  180.00   \n",
       "4     Hardcover,– 10 Oct 2006      5.0      1.0             1  965.62   \n",
       "...                       ...      ...      ...           ...     ...   \n",
       "6232   Paperback,– 8 Aug 2018      5.0      2.0             6  322.00   \n",
       "6233  Paperback,– 21 Nov 2016      3.0      9.0             5  421.00   \n",
       "6234   Paperback,– 8 Jun 2006      3.0      3.0             9  399.00   \n",
       "6235  Paperback,– 15 Jan 2015      3.0      4.0             0  319.00   \n",
       "6236  Paperback,– 21 Dec 2016      3.0      2.0             0  452.00   \n",
       "\n",
       "      Edition type  Edition year  \n",
       "0                6          2016  \n",
       "1                6          2012  \n",
       "2                6          1982  \n",
       "3                6          2017  \n",
       "4                3          2006  \n",
       "...            ...           ...  \n",
       "6232             6          2018  \n",
       "6233             6          2016  \n",
       "6234             6          2006  \n",
       "6235             6          2015  \n",
       "6236             6          2016  \n",
       "\n",
       "[6216 rows x 7 columns]"
      ]
     },
     "execution_count": 218,
     "metadata": {},
     "output_type": "execute_result"
    }
   ],
   "source": [
    "df_Train"
   ]
  },
  {
   "cell_type": "code",
   "execution_count": 219,
   "metadata": {
    "executionInfo": {
     "elapsed": 61,
     "status": "ok",
     "timestamp": 1622484289735,
     "user": {
      "displayName": "SAURABH KUMAR",
      "photoUrl": "",
      "userId": "17886894809944321636"
     },
     "user_tz": -330
    },
    "id": "aoU6m8NggShk"
   },
   "outputs": [],
   "source": [
    "df_Train.drop(['Edition'],axis=1,inplace=True)"
   ]
  },
  {
   "cell_type": "code",
   "execution_count": 220,
   "metadata": {
    "colab": {
     "base_uri": "https://localhost:8080/",
     "height": 419
    },
    "executionInfo": {
     "elapsed": 69,
     "status": "ok",
     "timestamp": 1622484289744,
     "user": {
      "displayName": "SAURABH KUMAR",
      "photoUrl": "",
      "userId": "17886894809944321636"
     },
     "user_tz": -330
    },
    "id": "1D-U-KfagrAP",
    "outputId": "5c95b3f1-8602-4387-f0ec-b02d965f386f"
   },
   "outputs": [
    {
     "data": {
      "text/html": [
       "<div>\n",
       "<style scoped>\n",
       "    .dataframe tbody tr th:only-of-type {\n",
       "        vertical-align: middle;\n",
       "    }\n",
       "\n",
       "    .dataframe tbody tr th {\n",
       "        vertical-align: top;\n",
       "    }\n",
       "\n",
       "    .dataframe thead th {\n",
       "        text-align: right;\n",
       "    }\n",
       "</style>\n",
       "<table border=\"1\" class=\"dataframe\">\n",
       "  <thead>\n",
       "    <tr style=\"text-align: right;\">\n",
       "      <th></th>\n",
       "      <th>Reviews</th>\n",
       "      <th>Ratings</th>\n",
       "      <th>BookCategory</th>\n",
       "      <th>Price</th>\n",
       "      <th>Edition type</th>\n",
       "      <th>Edition year</th>\n",
       "    </tr>\n",
       "  </thead>\n",
       "  <tbody>\n",
       "    <tr>\n",
       "      <th>0</th>\n",
       "      <td>4.0</td>\n",
       "      <td>8.0</td>\n",
       "      <td>0</td>\n",
       "      <td>220.00</td>\n",
       "      <td>6</td>\n",
       "      <td>2016</td>\n",
       "    </tr>\n",
       "    <tr>\n",
       "      <th>1</th>\n",
       "      <td>3.0</td>\n",
       "      <td>1.0</td>\n",
       "      <td>2</td>\n",
       "      <td>202.93</td>\n",
       "      <td>6</td>\n",
       "      <td>2012</td>\n",
       "    </tr>\n",
       "    <tr>\n",
       "      <th>2</th>\n",
       "      <td>4.0</td>\n",
       "      <td>6.0</td>\n",
       "      <td>6</td>\n",
       "      <td>299.00</td>\n",
       "      <td>6</td>\n",
       "      <td>1982</td>\n",
       "    </tr>\n",
       "    <tr>\n",
       "      <th>3</th>\n",
       "      <td>4.0</td>\n",
       "      <td>1.0</td>\n",
       "      <td>5</td>\n",
       "      <td>180.00</td>\n",
       "      <td>6</td>\n",
       "      <td>2017</td>\n",
       "    </tr>\n",
       "    <tr>\n",
       "      <th>4</th>\n",
       "      <td>5.0</td>\n",
       "      <td>1.0</td>\n",
       "      <td>1</td>\n",
       "      <td>965.62</td>\n",
       "      <td>3</td>\n",
       "      <td>2006</td>\n",
       "    </tr>\n",
       "    <tr>\n",
       "      <th>...</th>\n",
       "      <td>...</td>\n",
       "      <td>...</td>\n",
       "      <td>...</td>\n",
       "      <td>...</td>\n",
       "      <td>...</td>\n",
       "      <td>...</td>\n",
       "    </tr>\n",
       "    <tr>\n",
       "      <th>6232</th>\n",
       "      <td>5.0</td>\n",
       "      <td>2.0</td>\n",
       "      <td>6</td>\n",
       "      <td>322.00</td>\n",
       "      <td>6</td>\n",
       "      <td>2018</td>\n",
       "    </tr>\n",
       "    <tr>\n",
       "      <th>6233</th>\n",
       "      <td>3.0</td>\n",
       "      <td>9.0</td>\n",
       "      <td>5</td>\n",
       "      <td>421.00</td>\n",
       "      <td>6</td>\n",
       "      <td>2016</td>\n",
       "    </tr>\n",
       "    <tr>\n",
       "      <th>6234</th>\n",
       "      <td>3.0</td>\n",
       "      <td>3.0</td>\n",
       "      <td>9</td>\n",
       "      <td>399.00</td>\n",
       "      <td>6</td>\n",
       "      <td>2006</td>\n",
       "    </tr>\n",
       "    <tr>\n",
       "      <th>6235</th>\n",
       "      <td>3.0</td>\n",
       "      <td>4.0</td>\n",
       "      <td>0</td>\n",
       "      <td>319.00</td>\n",
       "      <td>6</td>\n",
       "      <td>2015</td>\n",
       "    </tr>\n",
       "    <tr>\n",
       "      <th>6236</th>\n",
       "      <td>3.0</td>\n",
       "      <td>2.0</td>\n",
       "      <td>0</td>\n",
       "      <td>452.00</td>\n",
       "      <td>6</td>\n",
       "      <td>2016</td>\n",
       "    </tr>\n",
       "  </tbody>\n",
       "</table>\n",
       "<p>6216 rows × 6 columns</p>\n",
       "</div>"
      ],
      "text/plain": [
       "      Reviews  Ratings  BookCategory   Price  Edition type  Edition year\n",
       "0         4.0      8.0             0  220.00             6          2016\n",
       "1         3.0      1.0             2  202.93             6          2012\n",
       "2         4.0      6.0             6  299.00             6          1982\n",
       "3         4.0      1.0             5  180.00             6          2017\n",
       "4         5.0      1.0             1  965.62             3          2006\n",
       "...       ...      ...           ...     ...           ...           ...\n",
       "6232      5.0      2.0             6  322.00             6          2018\n",
       "6233      3.0      9.0             5  421.00             6          2016\n",
       "6234      3.0      3.0             9  399.00             6          2006\n",
       "6235      3.0      4.0             0  319.00             6          2015\n",
       "6236      3.0      2.0             0  452.00             6          2016\n",
       "\n",
       "[6216 rows x 6 columns]"
      ]
     },
     "execution_count": 220,
     "metadata": {},
     "output_type": "execute_result"
    }
   ],
   "source": [
    "df_Train"
   ]
  },
  {
   "cell_type": "code",
   "execution_count": 221,
   "metadata": {
    "executionInfo": {
     "elapsed": 69,
     "status": "ok",
     "timestamp": 1622484289745,
     "user": {
      "displayName": "SAURABH KUMAR",
      "photoUrl": "",
      "userId": "17886894809944321636"
     },
     "user_tz": -330
    },
    "id": "HcoGhCXEXu1o"
   },
   "outputs": [],
   "source": [
    "from sklearn.model_selection import train_test_split\n",
    "array=df_Train.values"
   ]
  },
  {
   "cell_type": "code",
   "execution_count": 222,
   "metadata": {
    "executionInfo": {
     "elapsed": 459,
     "status": "ok",
     "timestamp": 1622484387270,
     "user": {
      "displayName": "SAURABH KUMAR",
      "photoUrl": "",
      "userId": "17886894809944321636"
     },
     "user_tz": -330
    },
    "id": "T83JSpxJagKZ"
   },
   "outputs": [],
   "source": [
    "X=array[:,:5]\n",
    "y=array[:,5]\n",
    "X_train,X_test,y_train,y_test =train_test_split(X,y,test_size=0.4,random_state=1)"
   ]
  },
  {
   "cell_type": "code",
   "execution_count": 223,
   "metadata": {
    "colab": {
     "base_uri": "https://localhost:8080/"
    },
    "executionInfo": {
     "elapsed": 491,
     "status": "ok",
     "timestamp": 1622484391591,
     "user": {
      "displayName": "SAURABH KUMAR",
      "photoUrl": "",
      "userId": "17886894809944321636"
     },
     "user_tz": -330
    },
    "id": "F8H479FfhEcm",
    "outputId": "e8641745-7879-4bb4-e75d-0622c3492a0f"
   },
   "outputs": [
    {
     "data": {
      "text/plain": [
       "(6216, 6)"
      ]
     },
     "execution_count": 223,
     "metadata": {},
     "output_type": "execute_result"
    }
   ],
   "source": [
    "df_Train.shape"
   ]
  },
  {
   "cell_type": "code",
   "execution_count": 224,
   "metadata": {
    "executionInfo": {
     "elapsed": 64,
     "status": "ok",
     "timestamp": 1622484289747,
     "user": {
      "displayName": "SAURABH KUMAR",
      "photoUrl": "",
      "userId": "17886894809944321636"
     },
     "user_tz": -330
    },
    "id": "2xfDQ4TJbBE2"
   },
   "outputs": [],
   "source": [
    "from sklearn.svm import SVR"
   ]
  },
  {
   "cell_type": "code",
   "execution_count": 225,
   "metadata": {
    "colab": {
     "base_uri": "https://localhost:8080/"
    },
    "executionInfo": {
     "elapsed": 64,
     "status": "ok",
     "timestamp": 1622484289747,
     "user": {
      "displayName": "SAURABH KUMAR",
      "photoUrl": "",
      "userId": "17886894809944321636"
     },
     "user_tz": -330
    },
    "id": "Bm-zcHt8h0bb",
    "outputId": "4fad9086-0d48-4fce-9920-fe384d9e85b7"
   },
   "outputs": [
    {
     "data": {
      "text/plain": [
       "3729"
      ]
     },
     "execution_count": 225,
     "metadata": {},
     "output_type": "execute_result"
    }
   ],
   "source": [
    "len(X_train)"
   ]
  },
  {
   "cell_type": "code",
   "execution_count": 226,
   "metadata": {
    "colab": {
     "base_uri": "https://localhost:8080/"
    },
    "executionInfo": {
     "elapsed": 21,
     "status": "ok",
     "timestamp": 1622484290433,
     "user": {
      "displayName": "SAURABH KUMAR",
      "photoUrl": "",
      "userId": "17886894809944321636"
     },
     "user_tz": -330
    },
    "id": "v4ay-QW5aroM",
    "outputId": "369a65b3-ec1d-4998-c6e1-c6591921d574"
   },
   "outputs": [
    {
     "data": {
      "text/plain": [
       "(3729, 5)"
      ]
     },
     "execution_count": 226,
     "metadata": {},
     "output_type": "execute_result"
    }
   ],
   "source": [
    "X_train.shape"
   ]
  },
  {
   "cell_type": "code",
   "execution_count": 227,
   "metadata": {
    "colab": {
     "base_uri": "https://localhost:8080/"
    },
    "executionInfo": {
     "elapsed": 21,
     "status": "ok",
     "timestamp": 1622484290434,
     "user": {
      "displayName": "SAURABH KUMAR",
      "photoUrl": "",
      "userId": "17886894809944321636"
     },
     "user_tz": -330
    },
    "id": "ZLOPC5qeh3E7",
    "outputId": "133b2147-7a17-47d8-fe70-581df37a5eb2"
   },
   "outputs": [
    {
     "data": {
      "text/plain": [
       "3729"
      ]
     },
     "execution_count": 227,
     "metadata": {},
     "output_type": "execute_result"
    }
   ],
   "source": [
    "len(y_train)"
   ]
  },
  {
   "cell_type": "code",
   "execution_count": 228,
   "metadata": {
    "executionInfo": {
     "elapsed": 16,
     "status": "ok",
     "timestamp": 1622484290434,
     "user": {
      "displayName": "SAURABH KUMAR",
      "photoUrl": "",
      "userId": "17886894809944321636"
     },
     "user_tz": -330
    },
    "id": "MmWvA0qIl9AT"
   },
   "outputs": [],
   "source": [
    "from sklearn.metrics import mean_absolute_error"
   ]
  },
  {
   "cell_type": "code",
   "execution_count": 231,
   "metadata": {
    "colab": {
     "base_uri": "https://localhost:8080/"
    },
    "executionInfo": {
     "elapsed": 1700,
     "status": "ok",
     "timestamp": 1622484420724,
     "user": {
      "displayName": "SAURABH KUMAR",
      "photoUrl": "",
      "userId": "17886894809944321636"
     },
     "user_tz": -330
    },
    "id": "zpB-09g55uZt",
    "outputId": "250bf0a8-57eb-47d8-a3ee-4fab6cb27e12"
   },
   "outputs": [
    {
     "name": "stdout",
     "output_type": "stream",
     "text": [
      "Mean_absolute_error: 4.944744163081248\n"
     ]
    }
   ],
   "source": [
    "model=SVR()\n",
    "model.fit(X_train,y_train)\n",
    "y_predict =model.predict(X_test)\n",
    "print('Mean_absolute_error:',mean_absolute_error(y_test,y_predict3))"
   ]
  },
  {
   "cell_type": "code",
   "execution_count": 232,
   "metadata": {
    "colab": {
     "base_uri": "https://localhost:8080/"
    },
    "executionInfo": {
     "elapsed": 466,
     "status": "ok",
     "timestamp": 1622484451696,
     "user": {
      "displayName": "SAURABH KUMAR",
      "photoUrl": "",
      "userId": "17886894809944321636"
     },
     "user_tz": -330
    },
    "id": "UbCv-sjbm-LB",
    "outputId": "6c539734-edea-44fa-eeea-6bcefffd100a"
   },
   "outputs": [
    {
     "data": {
      "text/plain": [
       "array([2014.29932433, 2014.38006406, 2014.10893078, ..., 2014.62176095,\n",
       "       2014.69311143, 2014.85234835])"
      ]
     },
     "execution_count": 232,
     "metadata": {},
     "output_type": "execute_result"
    }
   ],
   "source": [
    "y_predict"
   ]
  },
  {
   "cell_type": "code",
   "execution_count": 233,
   "metadata": {
    "colab": {
     "base_uri": "https://localhost:8080/",
     "height": 419
    },
    "executionInfo": {
     "elapsed": 25,
     "status": "ok",
     "timestamp": 1622484293439,
     "user": {
      "displayName": "SAURABH KUMAR",
      "photoUrl": "",
      "userId": "17886894809944321636"
     },
     "user_tz": -330
    },
    "id": "HzEz8fK6lmo9",
    "outputId": "7b23afba-5d4d-42cf-961c-ad097b2a405e"
   },
   "outputs": [
    {
     "data": {
      "text/html": [
       "<div>\n",
       "<style scoped>\n",
       "    .dataframe tbody tr th:only-of-type {\n",
       "        vertical-align: middle;\n",
       "    }\n",
       "\n",
       "    .dataframe tbody tr th {\n",
       "        vertical-align: top;\n",
       "    }\n",
       "\n",
       "    .dataframe thead th {\n",
       "        text-align: right;\n",
       "    }\n",
       "</style>\n",
       "<table border=\"1\" class=\"dataframe\">\n",
       "  <thead>\n",
       "    <tr style=\"text-align: right;\">\n",
       "      <th></th>\n",
       "      <th>Edition</th>\n",
       "      <th>Reviews</th>\n",
       "      <th>Ratings</th>\n",
       "      <th>BookCategory</th>\n",
       "      <th>Edition type</th>\n",
       "      <th>Edition year</th>\n",
       "    </tr>\n",
       "  </thead>\n",
       "  <tbody>\n",
       "    <tr>\n",
       "      <th>0</th>\n",
       "      <td>Mass Market Paperback,– 1 Oct 1986</td>\n",
       "      <td>4.0</td>\n",
       "      <td>9.0</td>\n",
       "      <td>5</td>\n",
       "      <td>5</td>\n",
       "      <td>1986</td>\n",
       "    </tr>\n",
       "    <tr>\n",
       "      <th>1</th>\n",
       "      <td>Paperback,– Import, 26 Apr 2018</td>\n",
       "      <td>5.0</td>\n",
       "      <td>1.0</td>\n",
       "      <td>4</td>\n",
       "      <td>6</td>\n",
       "      <td>2018</td>\n",
       "    </tr>\n",
       "    <tr>\n",
       "      <th>2</th>\n",
       "      <td>Paperback,– 17 Mar 2011</td>\n",
       "      <td>5.0</td>\n",
       "      <td>4.0</td>\n",
       "      <td>9</td>\n",
       "      <td>6</td>\n",
       "      <td>2011</td>\n",
       "    </tr>\n",
       "    <tr>\n",
       "      <th>3</th>\n",
       "      <td>Paperback,– 2016</td>\n",
       "      <td>4.0</td>\n",
       "      <td>1.0</td>\n",
       "      <td>4</td>\n",
       "      <td>6</td>\n",
       "      <td>2016</td>\n",
       "    </tr>\n",
       "    <tr>\n",
       "      <th>4</th>\n",
       "      <td>Paperback,– 26 Dec 2011</td>\n",
       "      <td>4.0</td>\n",
       "      <td>9.0</td>\n",
       "      <td>7</td>\n",
       "      <td>6</td>\n",
       "      <td>2011</td>\n",
       "    </tr>\n",
       "    <tr>\n",
       "      <th>...</th>\n",
       "      <td>...</td>\n",
       "      <td>...</td>\n",
       "      <td>...</td>\n",
       "      <td>...</td>\n",
       "      <td>...</td>\n",
       "      <td>...</td>\n",
       "    </tr>\n",
       "    <tr>\n",
       "      <th>1555</th>\n",
       "      <td>Paperback,– 14 Apr 2011</td>\n",
       "      <td>5.0</td>\n",
       "      <td>4.0</td>\n",
       "      <td>4</td>\n",
       "      <td>6</td>\n",
       "      <td>2011</td>\n",
       "    </tr>\n",
       "    <tr>\n",
       "      <th>1556</th>\n",
       "      <td>Paperback,– 8 May 2013</td>\n",
       "      <td>3.0</td>\n",
       "      <td>1.0</td>\n",
       "      <td>2</td>\n",
       "      <td>6</td>\n",
       "      <td>2013</td>\n",
       "    </tr>\n",
       "    <tr>\n",
       "      <th>1557</th>\n",
       "      <td>Paperback,– 6 Sep 2011</td>\n",
       "      <td>4.0</td>\n",
       "      <td>5.0</td>\n",
       "      <td>6</td>\n",
       "      <td>6</td>\n",
       "      <td>2011</td>\n",
       "    </tr>\n",
       "    <tr>\n",
       "      <th>1558</th>\n",
       "      <td>Paperback,– 22 Sep 2009</td>\n",
       "      <td>3.0</td>\n",
       "      <td>3.0</td>\n",
       "      <td>2</td>\n",
       "      <td>6</td>\n",
       "      <td>2009</td>\n",
       "    </tr>\n",
       "    <tr>\n",
       "      <th>1559</th>\n",
       "      <td>Paperback,– 16 Sep 2016</td>\n",
       "      <td>4.0</td>\n",
       "      <td>2.0</td>\n",
       "      <td>7</td>\n",
       "      <td>6</td>\n",
       "      <td>2016</td>\n",
       "    </tr>\n",
       "  </tbody>\n",
       "</table>\n",
       "<p>1560 rows × 6 columns</p>\n",
       "</div>"
      ],
      "text/plain": [
       "                                 Edition  Reviews  Ratings  BookCategory  \\\n",
       "0     Mass Market Paperback,– 1 Oct 1986      4.0      9.0             5   \n",
       "1        Paperback,– Import, 26 Apr 2018      5.0      1.0             4   \n",
       "2                Paperback,– 17 Mar 2011      5.0      4.0             9   \n",
       "3                       Paperback,– 2016      4.0      1.0             4   \n",
       "4                Paperback,– 26 Dec 2011      4.0      9.0             7   \n",
       "...                                  ...      ...      ...           ...   \n",
       "1555             Paperback,– 14 Apr 2011      5.0      4.0             4   \n",
       "1556              Paperback,– 8 May 2013      3.0      1.0             2   \n",
       "1557              Paperback,– 6 Sep 2011      4.0      5.0             6   \n",
       "1558             Paperback,– 22 Sep 2009      3.0      3.0             2   \n",
       "1559             Paperback,– 16 Sep 2016      4.0      2.0             7   \n",
       "\n",
       "      Edition type  Edition year  \n",
       "0                5          1986  \n",
       "1                6          2018  \n",
       "2                6          2011  \n",
       "3                6          2016  \n",
       "4                6          2011  \n",
       "...            ...           ...  \n",
       "1555             6          2011  \n",
       "1556             6          2013  \n",
       "1557             6          2011  \n",
       "1558             6          2009  \n",
       "1559             6          2016  \n",
       "\n",
       "[1560 rows x 6 columns]"
      ]
     },
     "execution_count": 233,
     "metadata": {},
     "output_type": "execute_result"
    }
   ],
   "source": [
    "df_Test"
   ]
  },
  {
   "cell_type": "code",
   "execution_count": 234,
   "metadata": {
    "executionInfo": {
     "elapsed": 28,
     "status": "ok",
     "timestamp": 1622484293444,
     "user": {
      "displayName": "SAURABH KUMAR",
      "photoUrl": "",
      "userId": "17886894809944321636"
     },
     "user_tz": -330
    },
    "id": "JdcEYVQqaCSo"
   },
   "outputs": [],
   "source": [
    "df_Test.drop(['Edition'],axis=1,inplace=True)"
   ]
  },
  {
   "cell_type": "code",
   "execution_count": 235,
   "metadata": {
    "executionInfo": {
     "elapsed": 553,
     "status": "ok",
     "timestamp": 1622484495863,
     "user": {
      "displayName": "SAURABH KUMAR",
      "photoUrl": "",
      "userId": "17886894809944321636"
     },
     "user_tz": -330
    },
    "id": "-VyZHiXtY8YC"
   },
   "outputs": [],
   "source": [
    "predictions = model3.predict(df_Test)"
   ]
  },
  {
   "cell_type": "code",
   "execution_count": 236,
   "metadata": {
    "executionInfo": {
     "elapsed": 1010,
     "status": "ok",
     "timestamp": 1622484511950,
     "user": {
      "displayName": "SAURABH KUMAR",
      "photoUrl": "",
      "userId": "17886894809944321636"
     },
     "user_tz": -330
    },
    "id": "Hpez1ldPbTXh"
   },
   "outputs": [],
   "source": [
    "df = pd.DataFrame({'Price':predictions})\n",
    "df.to_csv('result.csv', index=False)"
   ]
  },
  {
   "cell_type": "code",
   "execution_count": 237,
   "metadata": {
    "executionInfo": {
     "elapsed": 470,
     "status": "ok",
     "timestamp": 1622484532489,
     "user": {
      "displayName": "SAURABH KUMAR",
      "photoUrl": "",
      "userId": "17886894809944321636"
     },
     "user_tz": -330
    },
    "id": "rGy8WwOnf6F-"
   },
   "outputs": [],
   "source": [
    "dff1=pd.read_csv('result.csv')"
   ]
  },
  {
   "cell_type": "code",
   "execution_count": 238,
   "metadata": {
    "colab": {
     "base_uri": "https://localhost:8080/",
     "height": 204
    },
    "executionInfo": {
     "elapsed": 492,
     "status": "ok",
     "timestamp": 1622484541074,
     "user": {
      "displayName": "SAURABH KUMAR",
      "photoUrl": "",
      "userId": "17886894809944321636"
     },
     "user_tz": -330
    },
    "id": "Eu1pO-SagAMl",
    "outputId": "14672e01-7b5d-4c0d-cd72-ceace29de1c5"
   },
   "outputs": [
    {
     "data": {
      "text/html": [
       "<div>\n",
       "<style scoped>\n",
       "    .dataframe tbody tr th:only-of-type {\n",
       "        vertical-align: middle;\n",
       "    }\n",
       "\n",
       "    .dataframe tbody tr th {\n",
       "        vertical-align: top;\n",
       "    }\n",
       "\n",
       "    .dataframe thead th {\n",
       "        text-align: right;\n",
       "    }\n",
       "</style>\n",
       "<table border=\"1\" class=\"dataframe\">\n",
       "  <thead>\n",
       "    <tr style=\"text-align: right;\">\n",
       "      <th></th>\n",
       "      <th>Price</th>\n",
       "    </tr>\n",
       "  </thead>\n",
       "  <tbody>\n",
       "    <tr>\n",
       "      <th>0</th>\n",
       "      <td>2013.616957</td>\n",
       "    </tr>\n",
       "    <tr>\n",
       "      <th>1</th>\n",
       "      <td>2013.617024</td>\n",
       "    </tr>\n",
       "    <tr>\n",
       "      <th>2</th>\n",
       "      <td>2013.617023</td>\n",
       "    </tr>\n",
       "    <tr>\n",
       "      <th>3</th>\n",
       "      <td>2013.617018</td>\n",
       "    </tr>\n",
       "    <tr>\n",
       "      <th>4</th>\n",
       "      <td>2013.617024</td>\n",
       "    </tr>\n",
       "  </tbody>\n",
       "</table>\n",
       "</div>"
      ],
      "text/plain": [
       "         Price\n",
       "0  2013.616957\n",
       "1  2013.617024\n",
       "2  2013.617023\n",
       "3  2013.617018\n",
       "4  2013.617024"
      ]
     },
     "execution_count": 238,
     "metadata": {},
     "output_type": "execute_result"
    }
   ],
   "source": [
    "dff1.head()"
   ]
  }
 ],
 "metadata": {
  "colab": {
   "authorship_tag": "ABX9TyNM0DsAXBjre63f1np0mf0X",
   "collapsed_sections": [],
   "name": "Book_pridection.ipynb",
   "provenance": []
  },
  "kernelspec": {
   "display_name": "Python 3",
   "language": "python",
   "name": "python3"
  },
  "language_info": {
   "codemirror_mode": {
    "name": "ipython",
    "version": 3
   },
   "file_extension": ".py",
   "mimetype": "text/x-python",
   "name": "python",
   "nbconvert_exporter": "python",
   "pygments_lexer": "ipython3",
   "version": "3.6.2"
  }
 },
 "nbformat": 4,
 "nbformat_minor": 1
}
